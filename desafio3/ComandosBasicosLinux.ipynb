{
  "nbformat": 4,
  "nbformat_minor": 0,
  "metadata": {
    "colab": {
      "provenance": []
    },
    "kernelspec": {
      "name": "python3",
      "display_name": "Python 3"
    },
    "language_info": {
      "name": "python"
    }
  },
  "cells": [
    {
      "cell_type": "markdown",
      "metadata": {
        "id": "zgQOB5R566do"
      },
      "source": [
        "# Dicas Linux"
      ]
    },
    {
      "cell_type": "markdown",
      "source": [
        "## Introdução"
      ],
      "metadata": {
        "id": "b14MD6VTkt6X"
      }
    },
    {
      "cell_type": "markdown",
      "metadata": {
        "id": "q-tosE2G68xY"
      },
      "source": [
        "Linux é sistema operacional que possui uma grande importância em TI, estanod presente em diversos setores da área.\n",
        "Na área de dados, em destaque na engenharia de dados, linux é usado como ferramentas para montar, orquestrar fluxo de dados (pipeline de dados) entre outras funcionalidades.  \n",
        "\n",
        "É comum durante a rotina do Eng. Dados usar alguns comandos do linux. Quanto maior o conhecimento do profissional em linux, maior o poder de automação de tarefass ele terá ao seu dispor.\n",
        "\n",
        "Este documento possui alguns comandos básicos para usar o shell do linux.\n",
        "\n",
        "> Nota: Por ser um jupyter notebook, alguns comandos demonstrados pode não funcionar ou funcionar de modo inesperado. Recomenda-se a praticar em um shell ou terminal do linux."
      ]
    },
    {
      "cell_type": "markdown",
      "source": [
        "## Comandos"
      ],
      "metadata": {
        "id": "staIkDlqOxUj"
      }
    },
    {
      "cell_type": "markdown",
      "source": [
        "### Olá Mundo"
      ],
      "metadata": {
        "id": "zpK9Ovx6O28i"
      }
    },
    {
      "cell_type": "markdown",
      "source": [
        "#### echo"
      ],
      "metadata": {
        "id": "7JwX6PuSOWdM"
      }
    },
    {
      "cell_type": "code",
      "source": [
        "! echo Ola Mundo"
      ],
      "metadata": {
        "colab": {
          "base_uri": "https://localhost:8080/"
        },
        "id": "miwyWzOzO0f6",
        "outputId": "28caf5f2-16a3-4c4a-c284-0648149973e8"
      },
      "execution_count": null,
      "outputs": [
        {
          "output_type": "stream",
          "name": "stdout",
          "text": [
            "Ola Mundo\n"
          ]
        }
      ]
    },
    {
      "cell_type": "code",
      "source": [
        "! echo \"Olá Mundo!\""
      ],
      "metadata": {
        "colab": {
          "base_uri": "https://localhost:8080/"
        },
        "id": "7AUmoX-FPGyN",
        "outputId": "fd56e521-06c5-4ebd-ff8e-b9ca6735c086"
      },
      "execution_count": null,
      "outputs": [
        {
          "output_type": "stream",
          "name": "stdout",
          "text": [
            "Olá Mundo!\n"
          ]
        }
      ]
    },
    {
      "cell_type": "markdown",
      "source": [
        "Imprimindo mais de uma linha"
      ],
      "metadata": {
        "id": "WpZkrC00PN3g"
      }
    },
    {
      "cell_type": "code",
      "source": [
        "! echo -e \"Hello World!\\nHow are you\""
      ],
      "metadata": {
        "colab": {
          "base_uri": "https://localhost:8080/"
        },
        "id": "7MbRN3pEPHUZ",
        "outputId": "2a34b192-6536-4a7f-b47e-ac4d33310539"
      },
      "execution_count": null,
      "outputs": [
        {
          "output_type": "stream",
          "name": "stdout",
          "text": [
            "Hello World!\n",
            "How are you\n"
          ]
        }
      ]
    },
    {
      "cell_type": "markdown",
      "source": [
        "Repare que foi necessário adicionar a opção \"-e\" após o comando para imprimir 2 linhas."
      ],
      "metadata": {
        "id": "tAhGWk3XPgNQ"
      }
    },
    {
      "cell_type": "code",
      "source": [
        "! echo \"Hello World!\\nHow are you\""
      ],
      "metadata": {
        "colab": {
          "base_uri": "https://localhost:8080/"
        },
        "id": "NPB3QWCWQKz4",
        "outputId": "778cd0fb-5ec4-4cf4-cd2e-a80f96d8d71c"
      },
      "execution_count": null,
      "outputs": [
        {
          "output_type": "stream",
          "name": "stdout",
          "text": [
            "Hello World!\\nHow are you\n"
          ]
        }
      ]
    },
    {
      "cell_type": "markdown",
      "source": [
        "Sem o \"-e\", o echo a marcação de nova linha `\\n`.  \n",
        "\n",
        "Logo o \"-e\" alterou o compoertamento padrão do comando echo.  \n",
        "\n",
        "No linux, os comandos de shell seguem, a seguinte estrutura\n",
        "\n",
        "```\n",
        "comando [opções] [argumentos]\n",
        "```\n",
        "\n",
        "Também pode-se interpretar assim:\n",
        "\n",
        "```\n",
        "comando [opções] [entrada(input)]\n",
        "```\n",
        "\n",
        "\n",
        "No comando \n",
        "\n",
        "```bash\n",
        "echo -e \"Hello World!\\nHow are you?\"\n",
        "```\n",
        "\n",
        "Onde:\n",
        "- Comando: echo\n",
        "- opção: -e\n",
        "- entrada: \"Hello World!\\nHow are you?\""
      ],
      "metadata": {
        "id": "Rsw3t-vqQTzJ"
      }
    },
    {
      "cell_type": "markdown",
      "source": [
        "Uma opção muito útil dos comandos linux é a opção \"-h\" ou \"--help\".  Essas opçãoes exibem uma descrição resumida do comando, opções disponíveis, ..."
      ],
      "metadata": {
        "id": "RpOFyf7GSFqf"
      }
    },
    {
      "cell_type": "markdown",
      "source": [
        "O comando help, man, info podem ajudar quando não existem essas opções."
      ],
      "metadata": {
        "id": "K5qos1sVS5dg"
      }
    },
    {
      "cell_type": "code",
      "source": [
        "! help echo"
      ],
      "metadata": {
        "colab": {
          "base_uri": "https://localhost:8080/"
        },
        "id": "QvpcnS09QO05",
        "outputId": "43db3ee8-242e-4f31-bf34-dc45b35b5fa7"
      },
      "execution_count": null,
      "outputs": [
        {
          "output_type": "stream",
          "name": "stdout",
          "text": [
            "echo: echo [-neE] [arg ...]\n",
            "    Write arguments to the standard output.\n",
            "    \n",
            "    Display the ARGs, separated by a single space character and followed by a\n",
            "    newline, on the standard output.\n",
            "    \n",
            "    Options:\n",
            "      -n\tdo not append a newline\n",
            "      -e\tenable interpretation of the following backslash escapes\n",
            "      -E\texplicitly suppress interpretation of backslash escapes\n",
            "    \n",
            "    `echo' interprets the following backslash-escaped characters:\n",
            "      \\a\talert (bell)\n",
            "      \\b\tbackspace\n",
            "      \\c\tsuppress further output\n",
            "      \\e\tescape character\n",
            "      \\E\tescape character\n",
            "      \\f\tform feed\n",
            "      \\n\tnew line\n",
            "      \\r\tcarriage return\n",
            "      \\t\thorizontal tab\n",
            "      \\v\tvertical tab\n",
            "      \\\\\tbackslash\n",
            "      \\0nnn\tthe character whose ASCII code is NNN (octal).  NNN can be\n",
            "    \t\t0 to 3 octal digits\n",
            "      \\xHH\tthe eight-bit character whose value is HH (hexadecimal).  HH\n",
            "    \t\tcan be one or two hex digits\n",
            "    \n",
            "    Exit Status:\n",
            "    Returns success unless a write error occurs.\n"
          ]
        }
      ]
    },
    {
      "cell_type": "markdown",
      "source": [
        "### Arquivos e pastas"
      ],
      "metadata": {
        "id": "e9xD6gVITmdT"
      }
    },
    {
      "cell_type": "markdown",
      "source": [
        "#### pwd (*print work directory*)\n",
        "\n",
        "Imprime na tela o diretório de trabalho onde o usuário está."
      ],
      "metadata": {
        "id": "Y8h6J4EjTvhp"
      }
    },
    {
      "cell_type": "code",
      "source": [
        "! pwd"
      ],
      "metadata": {
        "colab": {
          "base_uri": "https://localhost:8080/"
        },
        "id": "PMXoVOqiQPBR",
        "outputId": "cb58a995-ea2c-4ce1-a99a-91ccef6ec996"
      },
      "execution_count": null,
      "outputs": [
        {
          "output_type": "stream",
          "name": "stdout",
          "text": [
            "/content\n"
          ]
        }
      ]
    },
    {
      "cell_type": "markdown",
      "source": [
        "#### mkdir *(make directory)*\n",
        "\n",
        "Cria um diretório."
      ],
      "metadata": {
        "id": "tuf-tpoIUKo9"
      }
    },
    {
      "cell_type": "code",
      "source": [
        "! mkdir dir1"
      ],
      "metadata": {
        "id": "1QLyUvNxQPMQ"
      },
      "execution_count": null,
      "outputs": []
    },
    {
      "cell_type": "markdown",
      "source": [
        "#### ls *(list)*\n",
        "\n",
        "Lista arquivos e diretórios na pasta corrente."
      ],
      "metadata": {
        "id": "96L2jtDVUjLn"
      }
    },
    {
      "cell_type": "code",
      "source": [
        "! ls"
      ],
      "metadata": {
        "colab": {
          "base_uri": "https://localhost:8080/"
        },
        "id": "1QFAIIP7QPY5",
        "outputId": "ab3d5216-dfa4-46c9-f25f-bfc93d7c591e"
      },
      "execution_count": null,
      "outputs": [
        {
          "output_type": "stream",
          "name": "stdout",
          "text": [
            "dir1  sample_data\n"
          ]
        }
      ]
    },
    {
      "cell_type": "code",
      "source": [
        "! ls sample_data"
      ],
      "metadata": {
        "colab": {
          "base_uri": "https://localhost:8080/"
        },
        "id": "1s512CG3QPjA",
        "outputId": "1f359447-8109-4cb6-a269-119551348492"
      },
      "execution_count": null,
      "outputs": [
        {
          "output_type": "stream",
          "name": "stdout",
          "text": [
            "anscombe.json\t\t      mnist_test.csv\n",
            "california_housing_test.csv   mnist_train_small.csv\n",
            "california_housing_train.csv  README.md\n"
          ]
        }
      ]
    },
    {
      "cell_type": "markdown",
      "source": [
        "Com a opção \"a\", exibi-se todos os arquivos, incluindo os ocultos.\n",
        "\n",
        "No linux, arquivos/pastas ocultos começam com o caracter \".\"\n",
        "\n"
      ],
      "metadata": {
        "id": "vG_A8o4txZkf"
      }
    },
    {
      "cell_type": "code",
      "source": [
        "! ls -a"
      ],
      "metadata": {
        "colab": {
          "base_uri": "https://localhost:8080/"
        },
        "id": "hMukjgyXxrpU",
        "outputId": "d5421563-77a7-4084-dc40-ae480a2a7f07"
      },
      "execution_count": null,
      "outputs": [
        {
          "output_type": "stream",
          "name": "stdout",
          "text": [
            ".  ..  arq1.sh\tarq2  .config  passwd.txt  sample_data\n"
          ]
        }
      ]
    },
    {
      "cell_type": "markdown",
      "source": [
        "> Nota:  \n",
        "> \".\" aponta para o diretório aatual.  \n",
        "> \"..\" aponta para o diretório pai."
      ],
      "metadata": {
        "id": "myIfr1Ymxx_c"
      }
    },
    {
      "cell_type": "code",
      "source": [
        "! ls -a ."
      ],
      "metadata": {
        "colab": {
          "base_uri": "https://localhost:8080/"
        },
        "id": "nTVHQDV_x6mL",
        "outputId": "d7c4c68e-3506-440a-f413-689bcb7760ba"
      },
      "execution_count": null,
      "outputs": [
        {
          "output_type": "stream",
          "name": "stdout",
          "text": [
            ".  ..  arq1.sh\tarq2  .config  passwd.txt  sample_data\n"
          ]
        }
      ]
    },
    {
      "cell_type": "code",
      "source": [
        "! ls -a .."
      ],
      "metadata": {
        "colab": {
          "base_uri": "https://localhost:8080/"
        },
        "id": "jtZlp1-ox9dL",
        "outputId": "eb9d9364-20f6-4566-a81f-bd29805dce3a"
      },
      "execution_count": null,
      "outputs": [
        {
          "output_type": "stream",
          "name": "stdout",
          "text": [
            ".     content\t  etc\t lib64\t\t\t   opt\t       run   tmp\n",
            "..    datalab\t  home\t media\t\t\t   proc        sbin  tools\n",
            "bin   dev\t  lib\t mnt\t\t\t   python-apt  srv   usr\n",
            "boot  .dockerenv  lib32  NGC-DL-CONTAINER-LICENSE  root        sys   var\n"
          ]
        }
      ]
    },
    {
      "cell_type": "markdown",
      "source": [
        "#### cd *(change directory)*\n",
        "\n",
        "Muda de diretório."
      ],
      "metadata": {
        "id": "d3Rf7xorVbO9"
      }
    },
    {
      "cell_type": "code",
      "source": [
        "! cd dir1/\n",
        "! pwd"
      ],
      "metadata": {
        "colab": {
          "base_uri": "https://localhost:8080/"
        },
        "id": "jgrlRMawVccZ",
        "outputId": "4ab6d0d7-e0a8-4dbf-d31c-4abd993b3792"
      },
      "execution_count": null,
      "outputs": [
        {
          "output_type": "stream",
          "name": "stdout",
          "text": [
            "/content\n"
          ]
        }
      ]
    },
    {
      "cell_type": "markdown",
      "source": [
        "> No notebook, o comportamento dos comanods de shell pode variar."
      ],
      "metadata": {
        "id": "AxcirZU9W5w7"
      }
    },
    {
      "cell_type": "markdown",
      "source": [
        "#### touch\n",
        "\n",
        "Cria um arquivo vazio ou alterar a data e hora de modificação de um arquivo já existente."
      ],
      "metadata": {
        "id": "kDzE69PoVHYo"
      }
    },
    {
      "cell_type": "code",
      "source": [
        "! touch arq1"
      ],
      "metadata": {
        "id": "boHM1-mkQPwi"
      },
      "execution_count": null,
      "outputs": []
    },
    {
      "cell_type": "code",
      "source": [
        "! ls"
      ],
      "metadata": {
        "colab": {
          "base_uri": "https://localhost:8080/"
        },
        "id": "l7-Acg6-QP_D",
        "outputId": "c59a3c19-4dff-46b9-d895-566d07bbc630"
      },
      "execution_count": null,
      "outputs": [
        {
          "output_type": "stream",
          "name": "stdout",
          "text": [
            "arq1  dir1  sample_data\n"
          ]
        }
      ]
    },
    {
      "cell_type": "code",
      "source": [
        "! rm anscombe.json"
      ],
      "metadata": {
        "id": "Gz7is-xTdWxF"
      },
      "execution_count": null,
      "outputs": []
    },
    {
      "cell_type": "markdown",
      "source": [
        "#### rmdir *(remove directory)*\n",
        "\n",
        "Remove um diretório vazio."
      ],
      "metadata": {
        "id": "eL0ccnLAXJXV"
      }
    },
    {
      "cell_type": "code",
      "source": [
        "! rmdir dir1\n",
        "! ls"
      ],
      "metadata": {
        "colab": {
          "base_uri": "https://localhost:8080/"
        },
        "id": "76QzuoTgXYAf",
        "outputId": "8c329aa1-465e-4a56-924d-e98725b6c2f5"
      },
      "execution_count": null,
      "outputs": [
        {
          "output_type": "stream",
          "name": "stdout",
          "text": [
            "arq1  sample_data\n"
          ]
        }
      ]
    },
    {
      "cell_type": "code",
      "source": [
        "! rmdir sample_data"
      ],
      "metadata": {
        "colab": {
          "base_uri": "https://localhost:8080/"
        },
        "id": "FdG6utH-XjGf",
        "outputId": "163bac35-c3e3-4fdf-c9db-c28d669bf19f"
      },
      "execution_count": null,
      "outputs": [
        {
          "output_type": "stream",
          "name": "stdout",
          "text": [
            "rmdir: failed to remove 'sample_data': Directory not empty\n"
          ]
        }
      ]
    },
    {
      "cell_type": "markdown",
      "source": [
        "#### rm *(remove)*\n",
        "\n",
        "Remove um arquivo."
      ],
      "metadata": {
        "id": "EoEGQZdHXoaI"
      }
    },
    {
      "cell_type": "code",
      "source": [
        "! rm arq1\n",
        "! ls"
      ],
      "metadata": {
        "colab": {
          "base_uri": "https://localhost:8080/"
        },
        "id": "XlJQJ1NKX-2G",
        "outputId": "a62dd12f-1142-4451-a240-fd2393084cdb"
      },
      "execution_count": null,
      "outputs": [
        {
          "output_type": "stream",
          "name": "stdout",
          "text": [
            "sample_data\n"
          ]
        }
      ]
    },
    {
      "cell_type": "markdown",
      "source": [
        "> Então para remover diretórios não vazio é necessário usar o `rm` para remover todos os arequivos e depois subir para um diretório acima e usar rmdir. Para facilitar, pode-se usar o rm com algumas opções.  \n",
        "\n",
        "> **???**\n",
        "\n",
        "> Uma pasta(diretório) pode ser considerada como um arquivo que contém os endereços em disco de outros arquivos."
      ],
      "metadata": {
        "id": "q2Gs6k0mYEt8"
      }
    },
    {
      "cell_type": "code",
      "source": [
        "! mkdir dir2\n",
        "! touch dir2/arq2\n",
        "! ls\n",
        "! echo listando conteudo de dir2\n",
        "! ls dir2"
      ],
      "metadata": {
        "colab": {
          "base_uri": "https://localhost:8080/"
        },
        "id": "Z2CgOV2AZnfg",
        "outputId": "f6140f2e-74f8-44e2-dd83-4b916140491a"
      },
      "execution_count": null,
      "outputs": [
        {
          "output_type": "stream",
          "name": "stdout",
          "text": [
            "dir2  sample_data\n",
            "listando conteudo de dir2\n",
            "arq2\n"
          ]
        }
      ]
    },
    {
      "cell_type": "code",
      "source": [
        "! rm -r dir2\n",
        "! ls"
      ],
      "metadata": {
        "colab": {
          "base_uri": "https://localhost:8080/"
        },
        "id": "SgzphWQ_Zx_X",
        "outputId": "424b9710-eab8-4abe-f531-3cb035354464"
      },
      "execution_count": null,
      "outputs": [
        {
          "output_type": "stream",
          "name": "stdout",
          "text": [
            "sample_data\n"
          ]
        }
      ]
    },
    {
      "cell_type": "markdown",
      "source": [
        "` rm -r`  *remova recursivamente*"
      ],
      "metadata": {
        "id": "RonOpuy2WHZK"
      }
    },
    {
      "cell_type": "markdown",
      "source": [
        "#### cp *(copy)*\n",
        "\n",
        "Copia arquivos e pastas"
      ],
      "metadata": {
        "id": "BCfe1-Yxc6-J"
      }
    },
    {
      "cell_type": "code",
      "source": [
        "! cp sample_data/anscombe.json anscombe.json\n",
        "! ls"
      ],
      "metadata": {
        "colab": {
          "base_uri": "https://localhost:8080/"
        },
        "id": "XFZABencdE8g",
        "outputId": "4dc4e92d-1bed-48f7-daa1-8328e86e7827"
      },
      "execution_count": null,
      "outputs": [
        {
          "output_type": "stream",
          "name": "stdout",
          "text": [
            "anscombe.json  dir2  sample_data\n"
          ]
        }
      ]
    },
    {
      "cell_type": "code",
      "source": [
        "! cp -r sample_data sample_data1\n",
        "! ls"
      ],
      "metadata": {
        "colab": {
          "base_uri": "https://localhost:8080/"
        },
        "id": "FsQHcIL9dcmx",
        "outputId": "0d8544f2-b4ca-4d5e-a31c-1e59098d429c"
      },
      "execution_count": null,
      "outputs": [
        {
          "output_type": "stream",
          "name": "stdout",
          "text": [
            "anscombe.json  dir2  sample_data  sample_data1\n"
          ]
        }
      ]
    },
    {
      "cell_type": "markdown",
      "source": [
        "#### mv *(move)*\n",
        "\n",
        "Move arquivos e pasta\n",
        "\n",
        "> Também pode ser usado para renomear arquivos e pastas."
      ],
      "metadata": {
        "id": "8yvHtrJpeRK4"
      }
    },
    {
      "cell_type": "code",
      "source": [
        "! echo \"listando conteúdo do diretório atual\"\n",
        "! ls\n",
        "! mv anscombe.json anscombe2.json\n",
        "! mv sample_data1 sample_data2\n",
        "! echo \"listando conteúdo do diretório atual\"\n",
        "! ls"
      ],
      "metadata": {
        "colab": {
          "base_uri": "https://localhost:8080/"
        },
        "id": "jWgNGE2fe0_p",
        "outputId": "a3c65381-11b4-4069-b0b0-8affceb40e87"
      },
      "execution_count": null,
      "outputs": [
        {
          "output_type": "stream",
          "name": "stdout",
          "text": [
            "listando conteúdo do diretório atual\n",
            "anscombe.json  dir2  sample_data  sample_data1\n",
            "listando conteúdo do diretório atual\n",
            "anscombe2.json\tdir2  sample_data  sample_data2\n"
          ]
        }
      ]
    },
    {
      "cell_type": "markdown",
      "source": [
        "Mover vários arquivos para um diretório específico"
      ],
      "metadata": {
        "id": "xUV3ORAhivGq"
      }
    },
    {
      "cell_type": "code",
      "source": [
        "! mkdir dir_teste\n",
        "! mv -t dir_teste sample_data2/*\n",
        "! ls dir_teste"
      ],
      "metadata": {
        "colab": {
          "base_uri": "https://localhost:8080/"
        },
        "id": "E-jAc2KEi7Vd",
        "outputId": "a5d66cd1-cf90-4261-c838-cb2102c39776"
      },
      "execution_count": null,
      "outputs": [
        {
          "output_type": "stream",
          "name": "stdout",
          "text": [
            "anscombe.json\t\t      mnist_test.csv\n",
            "california_housing_test.csv   mnist_train_small.csv\n",
            "california_housing_train.csv  README.md\n"
          ]
        }
      ]
    },
    {
      "cell_type": "markdown",
      "source": [
        "> Nota: \"*\" é um caracter coringa pode representa um ou mais caracteres."
      ],
      "metadata": {
        "id": "x_QkPtfdjM3g"
      }
    },
    {
      "cell_type": "markdown",
      "source": [
        "#### head\n",
        "\n",
        "Lê as primeiras 10 linhas de um arquivo por padrão"
      ],
      "metadata": {
        "id": "WYxDuza6ghx2"
      }
    },
    {
      "cell_type": "code",
      "source": [
        "! head anscombe2.json"
      ],
      "metadata": {
        "colab": {
          "base_uri": "https://localhost:8080/"
        },
        "id": "81q2CrJLgpgw",
        "outputId": "979f239a-1fbc-4e20-8901-88fae87177af"
      },
      "execution_count": null,
      "outputs": [
        {
          "output_type": "stream",
          "name": "stdout",
          "text": [
            "[\n",
            "  {\"Series\":\"I\", \"X\":10.0, \"Y\":8.04},\n",
            "  {\"Series\":\"I\", \"X\":8.0, \"Y\":6.95},\n",
            "  {\"Series\":\"I\", \"X\":13.0, \"Y\":7.58},\n",
            "  {\"Series\":\"I\", \"X\":9.0, \"Y\":8.81},\n",
            "  {\"Series\":\"I\", \"X\":11.0, \"Y\":8.33},\n",
            "  {\"Series\":\"I\", \"X\":14.0, \"Y\":9.96},\n",
            "  {\"Series\":\"I\", \"X\":6.0, \"Y\":7.24},\n",
            "  {\"Series\":\"I\", \"X\":4.0, \"Y\":4.26},\n",
            "  {\"Series\":\"I\", \"X\":12.0, \"Y\":10.84},\n"
          ]
        }
      ]
    },
    {
      "cell_type": "markdown",
      "source": [
        "Pode-se especificar o número de linhas"
      ],
      "metadata": {
        "id": "MSFCL1_Ig2pN"
      }
    },
    {
      "cell_type": "code",
      "source": [
        "! head -n 2 anscombe2.json"
      ],
      "metadata": {
        "colab": {
          "base_uri": "https://localhost:8080/"
        },
        "id": "1BmOapkngzK_",
        "outputId": "9d313d29-b959-4fab-de2a-a27d0d512709"
      },
      "execution_count": null,
      "outputs": [
        {
          "output_type": "stream",
          "name": "stdout",
          "text": [
            "[\n",
            "  {\"Series\":\"I\", \"X\":10.0, \"Y\":8.04},\n"
          ]
        }
      ]
    },
    {
      "cell_type": "markdown",
      "source": [
        "#### tail\n",
        "\n",
        "Lê as últimas 10 linhas de um arquivo por padrão"
      ],
      "metadata": {
        "id": "lCl4UPB-hQEc"
      }
    },
    {
      "cell_type": "code",
      "source": [
        "! tail anscombe2.json"
      ],
      "metadata": {
        "colab": {
          "base_uri": "https://localhost:8080/"
        },
        "outputId": "a1e165a9-6c39-4a49-c338-558ce0b8d73e",
        "id": "84G_zATkhQEe"
      },
      "execution_count": null,
      "outputs": [
        {
          "output_type": "stream",
          "name": "stdout",
          "text": [
            "  {\"Series\":\"IV\", \"X\":8.0, \"Y\":7.71},\n",
            "  {\"Series\":\"IV\", \"X\":8.0, \"Y\":8.84},\n",
            "  {\"Series\":\"IV\", \"X\":8.0, \"Y\":8.47},\n",
            "  {\"Series\":\"IV\", \"X\":8.0, \"Y\":7.04},\n",
            "  {\"Series\":\"IV\", \"X\":8.0, \"Y\":5.25},\n",
            "  {\"Series\":\"IV\", \"X\":19.0, \"Y\":12.50},\n",
            "  {\"Series\":\"IV\", \"X\":8.0, \"Y\":5.56},\n",
            "  {\"Series\":\"IV\", \"X\":8.0, \"Y\":7.91},\n",
            "  {\"Series\":\"IV\", \"X\":8.0, \"Y\":6.89}\n",
            "]\n"
          ]
        }
      ]
    },
    {
      "cell_type": "markdown",
      "source": [
        "Pode-se especificar o número de linhas"
      ],
      "metadata": {
        "id": "4HZ0jC7yhQEf"
      }
    },
    {
      "cell_type": "code",
      "source": [
        "! tail -n 2 anscombe2.json"
      ],
      "metadata": {
        "colab": {
          "base_uri": "https://localhost:8080/"
        },
        "outputId": "a47e36dc-b387-4695-fcf1-f13ef9f58ae7",
        "id": "dkEhaXTvhQEg"
      },
      "execution_count": null,
      "outputs": [
        {
          "output_type": "stream",
          "name": "stdout",
          "text": [
            "  {\"Series\":\"IV\", \"X\":8.0, \"Y\":6.89}\n",
            "]\n"
          ]
        }
      ]
    },
    {
      "cell_type": "markdown",
      "source": [
        "> Nota: O shell do linux oferece alguns editores de texto, como por exemplo:\n",
        "- vi ou vim;\n",
        "- nano."
      ],
      "metadata": {
        "id": "_VkXAxCJhcl2"
      }
    },
    {
      "cell_type": "markdown",
      "source": [
        "#### less\n",
        "\n",
        "Exibe o conteúdo de um arquivo de texto usando a setas do teclado para navegação.\n",
        "\n",
        "> Nota: Não funciona no notebook."
      ],
      "metadata": {
        "id": "ogrXxhgph73D"
      }
    },
    {
      "cell_type": "markdown",
      "source": [
        "#### find\n",
        "\n",
        "Localizar arquivos"
      ],
      "metadata": {
        "id": "-Q7wBv4wRJ6j"
      }
    },
    {
      "cell_type": "code",
      "source": [
        "! find sample_data"
      ],
      "metadata": {
        "colab": {
          "base_uri": "https://localhost:8080/"
        },
        "id": "T_4QXmRQRZIA",
        "outputId": "9e0da355-6744-4fa6-8856-e9b0310c6177"
      },
      "execution_count": null,
      "outputs": [
        {
          "output_type": "stream",
          "name": "stdout",
          "text": [
            "sample_data\n",
            "sample_data/anscombe.json\n",
            "sample_data/README.md\n",
            "sample_data/california_housing_test.csv\n",
            "sample_data/california_housing_train.csv\n",
            "sample_data/mnist_test.csv\n",
            "sample_data/mnist_train_small.csv\n"
          ]
        }
      ]
    },
    {
      "cell_type": "code",
      "source": [
        "! find /bin -iname echo"
      ],
      "metadata": {
        "colab": {
          "base_uri": "https://localhost:8080/"
        },
        "id": "iBYGEqQ2Rlho",
        "outputId": "140b910c-3c82-469a-8b26-119fc6c8fe28"
      },
      "execution_count": null,
      "outputs": [
        {
          "output_type": "stream",
          "name": "stdout",
          "text": [
            "/bin/echo\n"
          ]
        }
      ]
    },
    {
      "cell_type": "code",
      "source": [
        "! find /bin -iname Echo"
      ],
      "metadata": {
        "colab": {
          "base_uri": "https://localhost:8080/"
        },
        "id": "vRRRXJzESGBZ",
        "outputId": "1532e423-7d28-4b0f-e4ca-fbccb97cb8a4"
      },
      "execution_count": null,
      "outputs": [
        {
          "output_type": "stream",
          "name": "stdout",
          "text": [
            "/bin/echo\n"
          ]
        }
      ]
    },
    {
      "cell_type": "markdown",
      "source": [
        "```\n",
        "find <pasta> -iname <arquivo>\n",
        "```\n",
        "\n",
        "* iname: Nome do arquivo desconsiderando maiúsculas e minúsculas."
      ],
      "metadata": {
        "id": "jj8xsoBLRtrF"
      }
    },
    {
      "cell_type": "markdown",
      "source": [
        "#### Algumas pastas especiais do shell linux"
      ],
      "metadata": {
        "id": "dyHBI5jFOoPP"
      }
    },
    {
      "cell_type": "markdown",
      "source": [
        "* \"/\": Pasta raiz do sistema, equivalente C: do Windows;\n",
        "* \"/home\": Pasta onde são guardadas as pastas dos usuários, exceto o usuário *root(administrador do sistema)*\n",
        "* \"/bin\": Pasta onde estão salvos programas e comandos\n",
        "* \"/tmp\": Diretório temporário. Geralmente todos os usuários tem direito de escrita nessa pasta\n",
        "* \"/dev\": Pasta de arquivos de dispositivos entrada/saída. Teclado, hds, ...\n",
        "* \"/etc\": Arquivos de configuração do sistema."
      ],
      "metadata": {
        "id": "yc2LThwYO1wW"
      }
    },
    {
      "cell_type": "code",
      "source": [
        "ls /"
      ],
      "metadata": {
        "colab": {
          "base_uri": "https://localhost:8080/"
        },
        "id": "Poke9AbPQyBU",
        "outputId": "12a8a33c-f29e-4860-9728-67b571ebb3cc"
      },
      "execution_count": null,
      "outputs": [
        {
          "output_type": "stream",
          "name": "stdout",
          "text": [
            "\u001b[0m\u001b[01;34mbin\u001b[0m/      \u001b[01;34mdev\u001b[0m/   \u001b[01;34mlib32\u001b[0m/  NGC-DL-CONTAINER-LICENSE  \u001b[01;34mroot\u001b[0m/  \u001b[01;34msys\u001b[0m/    \u001b[01;34mvar\u001b[0m/\n",
            "\u001b[01;34mboot\u001b[0m/     \u001b[01;34metc\u001b[0m/   \u001b[01;34mlib64\u001b[0m/  \u001b[01;34mopt\u001b[0m/                      \u001b[01;34mrun\u001b[0m/   \u001b[30;42mtmp\u001b[0m/\n",
            "\u001b[01;34mcontent\u001b[0m/  \u001b[01;34mhome\u001b[0m/  \u001b[01;34mmedia\u001b[0m/  \u001b[01;34mproc\u001b[0m/                     \u001b[01;34msbin\u001b[0m/  \u001b[01;34mtools\u001b[0m/\n",
            "\u001b[01;34mdatalab\u001b[0m/  \u001b[01;34mlib\u001b[0m/   \u001b[01;34mmnt\u001b[0m/    \u001b[01;34mpython-apt\u001b[0m/               \u001b[01;34msrv\u001b[0m/   \u001b[01;34musr\u001b[0m/\n"
          ]
        }
      ]
    },
    {
      "cell_type": "markdown",
      "source": [
        "### Salvando resultado de comandos\n",
        "\n",
        "No shell do linux, a entrada padrão é o teclado e saída padrão é a tela. O shell dispõe de alguns recursos para redirecionar a saída para um arquivo."
      ],
      "metadata": {
        "id": "8f5dbElkkAur"
      }
    },
    {
      "cell_type": "code",
      "source": [
        "! echo \"Linha 1\" >  arq1\n",
        "! echo \"Mostrando conteúdo de arq1\"\n",
        "! head arq1"
      ],
      "metadata": {
        "colab": {
          "base_uri": "https://localhost:8080/"
        },
        "id": "4S-XJCY3lPm2",
        "outputId": "68894266-1ec2-4a87-f2dc-32819bca0f40"
      },
      "execution_count": null,
      "outputs": [
        {
          "output_type": "stream",
          "name": "stdout",
          "text": [
            "Mostrando conteúdo de arq1\n",
            "Linha 1\n"
          ]
        }
      ]
    },
    {
      "cell_type": "code",
      "source": [
        "! echo \"Linha 2\" >  arq1\n",
        "! echo \"Mostrando conteúdo de arq1\"\n",
        "! head arq1"
      ],
      "metadata": {
        "colab": {
          "base_uri": "https://localhost:8080/"
        },
        "id": "ErX5y2RXlnSx",
        "outputId": "1ae5f379-827c-494a-84e3-75eae9c4e2d3"
      },
      "execution_count": null,
      "outputs": [
        {
          "output_type": "stream",
          "name": "stdout",
          "text": [
            "Mostrando conteúdo de arq1\n",
            "Linha 2\n"
          ]
        }
      ]
    },
    {
      "cell_type": "markdown",
      "source": [
        "O \">\" Direciona a saída do comando para um arquivo sempre sobrecrevendo o arquivo"
      ],
      "metadata": {
        "id": "ee7oNs7Klr1D"
      }
    },
    {
      "cell_type": "code",
      "source": [
        "! echo \"Linha 1\" >  arq1\n",
        "! echo \"Mostrando conteúdo de arq1\"\n",
        "! head arq1\n",
        "! echo \"Linha 2\" >>  arq1\n",
        "! echo \"Mostrando conteúdo de arq1\"\n",
        "! head arq1"
      ],
      "metadata": {
        "colab": {
          "base_uri": "https://localhost:8080/"
        },
        "id": "D2T80WpWl0s4",
        "outputId": "f0e29428-7233-4b56-eb49-05791e4d1065"
      },
      "execution_count": null,
      "outputs": [
        {
          "output_type": "stream",
          "name": "stdout",
          "text": [
            "Mostrando conteúdo de arq1\n",
            "Linha 1\n",
            "Mostrando conteúdo de arq1\n",
            "Linha 1\n",
            "Linha 2\n"
          ]
        }
      ]
    },
    {
      "cell_type": "markdown",
      "source": [
        "O \">>\" Adiciona a saída para uma nova linha."
      ],
      "metadata": {
        "id": "oj1KHn5xmzlP"
      }
    },
    {
      "cell_type": "markdown",
      "source": [
        "#### cat \n",
        "\n",
        "Lê todo o conteúdo do arquivo"
      ],
      "metadata": {
        "id": "jxd4GfdwjqPx"
      }
    },
    {
      "cell_type": "code",
      "source": [
        "! cat arq1"
      ],
      "metadata": {
        "colab": {
          "base_uri": "https://localhost:8080/"
        },
        "id": "w-PyAlB0ml9g",
        "outputId": "62949183-166a-4329-b912-dce0338ac735"
      },
      "execution_count": null,
      "outputs": [
        {
          "output_type": "stream",
          "name": "stdout",
          "text": [
            "Linha 1\n",
            "Linha 2\n"
          ]
        }
      ]
    },
    {
      "cell_type": "markdown",
      "source": [
        "Também é possível redireionar a saída de um comando para uma variável.\n",
        "\n",
        "```bash\n",
        "EXEMPLO=$(pwd)\n",
        "echo $EXEMPLO\n",
        "```\n",
        "\n",
        "Na linha 1 é criada a  variável EXEMPLO\n",
        "Na linha o conteúdo de `EXEMPLO` é acessado e enviado como uma entrada para o comando `echo`."
      ],
      "metadata": {
        "id": "2_90vCkYm-9i"
      }
    },
    {
      "cell_type": "code",
      "source": [],
      "metadata": {
        "id": "s32Ej2JDn3sL"
      },
      "execution_count": null,
      "outputs": []
    },
    {
      "cell_type": "markdown",
      "source": [
        "### Encadeamento de comandos"
      ],
      "metadata": {
        "id": "8-q4BKhSS8oE"
      }
    },
    {
      "cell_type": "markdown",
      "source": [
        "\";\" executa um comando após o outro."
      ],
      "metadata": {
        "id": "-go4GA2MTLlN"
      }
    },
    {
      "cell_type": "code",
      "source": [
        "! pwd ; ls"
      ],
      "metadata": {
        "colab": {
          "base_uri": "https://localhost:8080/"
        },
        "id": "qQfgSVHxTU7w",
        "outputId": "aa1e9842-4cfc-454f-f681-4aa821a759af"
      },
      "execution_count": null,
      "outputs": [
        {
          "output_type": "stream",
          "name": "stdout",
          "text": [
            "/content\n",
            "sample_data\n"
          ]
        }
      ]
    },
    {
      "cell_type": "markdown",
      "source": [
        "\"&&\" só executa o 2º comando se o 1º funcionar."
      ],
      "metadata": {
        "id": "5jNwfX8KTtry"
      }
    },
    {
      "cell_type": "code",
      "source": [
        "! ls sample_data && echo \"Pasta sample_data encontrado\""
      ],
      "metadata": {
        "colab": {
          "base_uri": "https://localhost:8080/"
        },
        "id": "jmHC7ki2TrN_",
        "outputId": "48a6879f-0c5f-4f4c-f47f-0bc2752cb5ea"
      },
      "execution_count": null,
      "outputs": [
        {
          "output_type": "stream",
          "name": "stdout",
          "text": [
            "anscombe.json\t\t      mnist_test.csv\n",
            "california_housing_test.csv   mnist_train_small.csv\n",
            "california_housing_train.csv  README.md\n",
            "Pasta sample_data encontrado\n"
          ]
        }
      ]
    },
    {
      "cell_type": "markdown",
      "source": [
        "\"||\" só executa o 2º comando se o 1º falhar."
      ],
      "metadata": {
        "id": "O09p82J1UCs_"
      }
    },
    {
      "cell_type": "code",
      "source": [
        "! ls sample_data || echo \"Pasta sample_data encontrado\""
      ],
      "metadata": {
        "colab": {
          "base_uri": "https://localhost:8080/"
        },
        "id": "o2wVeh5oUA-p",
        "outputId": "b5a77421-afb9-4a6b-f1d3-484c69c66347"
      },
      "execution_count": null,
      "outputs": [
        {
          "output_type": "stream",
          "name": "stdout",
          "text": [
            "anscombe.json\t\t      mnist_test.csv\n",
            "california_housing_test.csv   mnist_train_small.csv\n",
            "california_housing_train.csv  README.md\n"
          ]
        }
      ]
    },
    {
      "cell_type": "code",
      "source": [
        "! ls sample_data_old || echo \"Pasta sample_data_old encontrado\""
      ],
      "metadata": {
        "colab": {
          "base_uri": "https://localhost:8080/"
        },
        "id": "4sCpx9tiULhr",
        "outputId": "5b4d371d-6d4f-4274-9cda-9517dab02fae"
      },
      "execution_count": null,
      "outputs": [
        {
          "output_type": "stream",
          "name": "stdout",
          "text": [
            "ls: cannot access 'sample_data_old': No such file or directory\n",
            "Pasta sample_data_old encontrado\n"
          ]
        }
      ]
    },
    {
      "cell_type": "markdown",
      "source": [
        "### Recursos comuns a linguagem de programação"
      ],
      "metadata": {
        "id": "9zzMG3YvUeCQ"
      }
    },
    {
      "cell_type": "markdown",
      "source": [
        "#### Operações aritméticas"
      ],
      "metadata": {
        "id": "IVFBCM7mfJD3"
      }
    },
    {
      "cell_type": "code",
      "source": [
        "! expr 2 + 1"
      ],
      "metadata": {
        "colab": {
          "base_uri": "https://localhost:8080/"
        },
        "id": "29oQPPjjVmck",
        "outputId": "90feb740-1ac5-47cf-a4b2-91221972788c"
      },
      "execution_count": null,
      "outputs": [
        {
          "output_type": "stream",
          "name": "stdout",
          "text": [
            "3\n"
          ]
        }
      ]
    },
    {
      "cell_type": "code",
      "source": [
        "! expr 3 - 1"
      ],
      "metadata": {
        "colab": {
          "base_uri": "https://localhost:8080/"
        },
        "id": "NL42Z_wsWOYk",
        "outputId": "575c2a2a-fdf0-43a3-9cc8-efafdb8376d8"
      },
      "execution_count": null,
      "outputs": [
        {
          "output_type": "stream",
          "name": "stdout",
          "text": [
            "2\n"
          ]
        }
      ]
    },
    {
      "cell_type": "code",
      "source": [
        "! expr 3 / 3"
      ],
      "metadata": {
        "colab": {
          "base_uri": "https://localhost:8080/"
        },
        "id": "EqpLMO5vWTzo",
        "outputId": "0bd13ffb-bdeb-4b3e-8334-a5210f3faa78"
      },
      "execution_count": null,
      "outputs": [
        {
          "output_type": "stream",
          "name": "stdout",
          "text": [
            "1\n"
          ]
        }
      ]
    },
    {
      "cell_type": "code",
      "source": [
        "! awk 'BEGIN {var=1 ; var2=3 ; print var*var2}'"
      ],
      "metadata": {
        "colab": {
          "base_uri": "https://localhost:8080/"
        },
        "id": "M1S07qdhXU66",
        "outputId": "d40b90c7-e3ca-4fc9-917d-ae976371a056"
      },
      "execution_count": null,
      "outputs": [
        {
          "output_type": "stream",
          "name": "stdout",
          "text": [
            "3\n"
          ]
        }
      ]
    },
    {
      "cell_type": "code",
      "source": [
        "! expr 13 % 2"
      ],
      "metadata": {
        "colab": {
          "base_uri": "https://localhost:8080/"
        },
        "id": "ebuqQCu-X1SH",
        "outputId": "d21faf43-7e79-4967-f4ef-617f7baf18b9"
      },
      "execution_count": null,
      "outputs": [
        {
          "output_type": "stream",
          "name": "stdout",
          "text": [
            "1\n"
          ]
        }
      ]
    },
    {
      "cell_type": "markdown",
      "source": [
        "#### Um simples laço"
      ],
      "metadata": {
        "id": "hQ4UUBPUZPno"
      }
    },
    {
      "cell_type": "code",
      "source": [
        "! echo -e \"for palavra in {\\\"p1\\\",\\\"p2\\\"}\\ndo\\necho \\$palavra\\ndone\\n\" > arq2\n",
        "! bash arq2"
      ],
      "metadata": {
        "colab": {
          "base_uri": "https://localhost:8080/"
        },
        "id": "37Ggpw3fWBit",
        "outputId": "b4ba1a5d-aa39-48fd-a3a6-cea4736a320f"
      },
      "execution_count": null,
      "outputs": [
        {
          "output_type": "stream",
          "name": "stdout",
          "text": [
            "p1\n",
            "p2\n"
          ]
        }
      ]
    },
    {
      "cell_type": "markdown",
      "source": [
        "#### Condicionais"
      ],
      "metadata": {
        "id": "4n2zZqtjcvjv"
      }
    },
    {
      "cell_type": "code",
      "source": [
        "! if [ 2 -eq 0 ] ; then echo \"igual a zero\" ; else echo \"Diferente a zero\";  fi"
      ],
      "metadata": {
        "colab": {
          "base_uri": "https://localhost:8080/"
        },
        "id": "osv5TVu6ZF_5",
        "outputId": "ec294a6d-98bc-43f0-a204-baf87b6fb970"
      },
      "execution_count": null,
      "outputs": [
        {
          "output_type": "stream",
          "name": "stdout",
          "text": [
            "Diferente a zero\n"
          ]
        }
      ]
    },
    {
      "cell_type": "code",
      "source": [
        "! if [ 0 -eq 0 ] ; then echo \"igual a zero\" ; else echo \"Diferente a zero\";  fi"
      ],
      "metadata": {
        "colab": {
          "base_uri": "https://localhost:8080/"
        },
        "id": "73ZXnyOPZJXx",
        "outputId": "1678b034-25c3-40e2-b2a6-bdd789a354f7"
      },
      "execution_count": null,
      "outputs": [
        {
          "output_type": "stream",
          "name": "stdout",
          "text": [
            "igual a zero\n"
          ]
        }
      ]
    },
    {
      "cell_type": "code",
      "source": [
        "! if [ 1 -ne 0 ] ; then echo \"Diferente a zero\" ; else echo \"Igual a zero\";  fi"
      ],
      "metadata": {
        "colab": {
          "base_uri": "https://localhost:8080/"
        },
        "id": "jsq6smJraQu9",
        "outputId": "85505ee1-8121-43f2-da9f-86b8833aaeb3"
      },
      "execution_count": null,
      "outputs": [
        {
          "output_type": "stream",
          "name": "stdout",
          "text": [
            "Diferente a zero\n"
          ]
        }
      ]
    },
    {
      "cell_type": "code",
      "source": [
        "! if [ 1 -gt 2 ] ; then echo \"Maior que 2\" ; else echo \"Não maior que 2\";  fi"
      ],
      "metadata": {
        "colab": {
          "base_uri": "https://localhost:8080/"
        },
        "id": "iy8SCLKAcnYI",
        "outputId": "e68f13ad-5891-43e6-b936-0b4d80144819"
      },
      "execution_count": null,
      "outputs": [
        {
          "output_type": "stream",
          "name": "stdout",
          "text": [
            "Não maior que 2\n"
          ]
        }
      ]
    },
    {
      "cell_type": "code",
      "source": [
        "! if [ 1 -lt 2 ] ; then echo \"Menor que 2\" ; else echo \"Não menor que 2\";  fi"
      ],
      "metadata": {
        "colab": {
          "base_uri": "https://localhost:8080/"
        },
        "id": "fFsrCxAFbpVN",
        "outputId": "ee2982ba-949f-45ca-864c-fecf8d0b44ba"
      },
      "execution_count": null,
      "outputs": [
        {
          "output_type": "stream",
          "name": "stdout",
          "text": [
            "Menor que 2\n"
          ]
        }
      ]
    },
    {
      "cell_type": "code",
      "source": [
        "! if [ 1 -lt 2 -a 1 -eq 1 ] ; then echo \"Menor que 2 e igual a 1\" ; else echo \"Senão ...\";  fi"
      ],
      "metadata": {
        "colab": {
          "base_uri": "https://localhost:8080/"
        },
        "id": "MzeiZPgObrca",
        "outputId": "0d90fb04-70e2-4e02-8efa-2702290f42df"
      },
      "execution_count": null,
      "outputs": [
        {
          "output_type": "stream",
          "name": "stdout",
          "text": [
            "Menor que 2 e igual a 1\n"
          ]
        }
      ]
    },
    {
      "cell_type": "code",
      "source": [
        "! if [ 1 -lt 2 -o 1 -ne 1 ] ; then echo \"Menor que 2 ou não igual a 1\" ; else echo \"Senão ...\";  fi"
      ],
      "metadata": {
        "colab": {
          "base_uri": "https://localhost:8080/"
        },
        "id": "ax-vyBxjb5SN",
        "outputId": "14951222-e81c-4741-9343-2c4ceabe40ba"
      },
      "execution_count": null,
      "outputs": [
        {
          "output_type": "stream",
          "name": "stdout",
          "text": [
            "Menor que 2 ou não igual a 1\n"
          ]
        }
      ]
    },
    {
      "cell_type": "code",
      "source": [
        "! if [ \"aa\" == \"ab\" ] ; then echo \"aa == ab\" ; else echo \"aa != ab\";  fi"
      ],
      "metadata": {
        "colab": {
          "base_uri": "https://localhost:8080/"
        },
        "id": "OYVcRlPWcfQY",
        "outputId": "833d277f-d3e0-415f-9fc1-519d320b6950"
      },
      "execution_count": null,
      "outputs": [
        {
          "output_type": "stream",
          "name": "stdout",
          "text": [
            "aa != ab\n"
          ]
        }
      ]
    },
    {
      "cell_type": "code",
      "source": [
        "! if [ \"aa\" != \"ab\" ] ; then echo \"aa != ab\" ; else echo \"aa == ab\";  fi"
      ],
      "metadata": {
        "colab": {
          "base_uri": "https://localhost:8080/"
        },
        "id": "aF5UGHzRewHh",
        "outputId": "dea8d15d-8c46-4d7d-c2d5-eed26b88dfee"
      },
      "execution_count": null,
      "outputs": [
        {
          "output_type": "stream",
          "name": "stdout",
          "text": [
            "aa != ab\n"
          ]
        }
      ]
    },
    {
      "cell_type": "code",
      "source": [
        "! if [ \"aa\" == \"aa\" ] ; then echo \"aa == aa\" ; else echo \"aa != aa\";  fi"
      ],
      "metadata": {
        "colab": {
          "base_uri": "https://localhost:8080/"
        },
        "id": "TK76O1bQe3mX",
        "outputId": "b333173a-95b6-475b-f8b3-4408c33f2ea2"
      },
      "execution_count": null,
      "outputs": [
        {
          "output_type": "stream",
          "name": "stdout",
          "text": [
            "aa == aa\n"
          ]
        }
      ]
    },
    {
      "cell_type": "code",
      "source": [
        "! if [ ! 2 -eq 0 ] ; then echo \"igual a zero\" ; else echo \"Diferente a zero\";  fi"
      ],
      "metadata": {
        "id": "t4T4hc0Be89b",
        "colab": {
          "base_uri": "https://localhost:8080/"
        },
        "outputId": "d2ccf054-fe7c-40d7-bc86-fe19fae0f10e"
      },
      "execution_count": 5,
      "outputs": [
        {
          "output_type": "stream",
          "name": "stdout",
          "text": [
            "igual a zero\n"
          ]
        }
      ]
    },
    {
      "cell_type": "markdown",
      "source": [
        "#### Parâmetros para shell script"
      ],
      "metadata": {
        "id": "JpEmC22SJnvx"
      }
    },
    {
      "cell_type": "code",
      "source": [
        "with open(\"prg1.sh\", \"wt\") as f:\n",
        "  f.write(\"p1=$1\\n\")\n",
        "  f.write(\"echo \\\"Parametro 1: $p1\\\"\\n\")\n",
        "  f.write(\"echo \\\"Total de parametros passados $#\\\"\\n\")\n",
        "  f.write(\"echo \\\"Nome do arquivo shell: $0\\\"\\n\")\n",
        "\n",
        "f.close()"
      ],
      "metadata": {
        "id": "mmRMpjFXLeKH"
      },
      "execution_count": 69,
      "outputs": []
    },
    {
      "cell_type": "code",
      "source": [
        "! cat prg1.sh"
      ],
      "metadata": {
        "colab": {
          "base_uri": "https://localhost:8080/"
        },
        "id": "uzQfX0hJMCSk",
        "outputId": "73f1d507-ab66-4572-ed47-3aad1720649d"
      },
      "execution_count": 70,
      "outputs": [
        {
          "output_type": "stream",
          "name": "stdout",
          "text": [
            "p1=$1\n",
            "echo \"Parametro 1: $p1\"\n",
            "echo \"Total de parametros passados $#\"\n",
            "echo \"Nome do arquivo shell: $0\"\n"
          ]
        }
      ]
    },
    {
      "cell_type": "code",
      "source": [
        "! bash prg1.sh"
      ],
      "metadata": {
        "colab": {
          "base_uri": "https://localhost:8080/"
        },
        "id": "Zaw0wPXTKfgO",
        "outputId": "e436ce19-3597-4880-c870-e3060e26612a"
      },
      "execution_count": 71,
      "outputs": [
        {
          "output_type": "stream",
          "name": "stdout",
          "text": [
            "Parametro 1: \n",
            "Total de parametros passados 0\n",
            "Nome do arquivo shell: prg1.sh\n"
          ]
        }
      ]
    },
    {
      "cell_type": "code",
      "source": [
        "! bash prg1.sh a"
      ],
      "metadata": {
        "colab": {
          "base_uri": "https://localhost:8080/"
        },
        "id": "XGkpTdznLFHZ",
        "outputId": "c45af468-88d7-4542-a6f7-776812c6db32"
      },
      "execution_count": 72,
      "outputs": [
        {
          "output_type": "stream",
          "name": "stdout",
          "text": [
            "Parametro 1: a\n",
            "Total de parametros passados 1\n",
            "Nome do arquivo shell: prg1.sh\n"
          ]
        }
      ]
    },
    {
      "cell_type": "code",
      "source": [
        "! bash prg1.sh a b"
      ],
      "metadata": {
        "colab": {
          "base_uri": "https://localhost:8080/"
        },
        "id": "wr85u7kcMS9v",
        "outputId": "fc336e2b-890b-40e9-c2b7-b5e018a432d9"
      },
      "execution_count": 73,
      "outputs": [
        {
          "output_type": "stream",
          "name": "stdout",
          "text": [
            "Parametro 1: a\n",
            "Total de parametros passados 2\n",
            "Nome do arquivo shell: prg1.sh\n"
          ]
        }
      ]
    },
    {
      "cell_type": "code",
      "source": [
        "! bash prg1.sh \"a b\""
      ],
      "metadata": {
        "colab": {
          "base_uri": "https://localhost:8080/"
        },
        "id": "XnkT-5-sMYjt",
        "outputId": "4cd05400-3fea-4f52-efad-15a2125123e6"
      },
      "execution_count": 74,
      "outputs": [
        {
          "output_type": "stream",
          "name": "stdout",
          "text": [
            "Parametro 1: a b\n",
            "Total de parametros passados 1\n",
            "Nome do arquivo shell: prg1.sh\n"
          ]
        }
      ]
    },
    {
      "cell_type": "markdown",
      "source": [
        "### Trabalhando com arquivos de texto"
      ],
      "metadata": {
        "id": "jl8YhyQvflxU"
      }
    },
    {
      "cell_type": "markdown",
      "source": [
        "#### wc *(word count)*\n",
        "\n",
        "Contar caracteres e palavras"
      ],
      "metadata": {
        "id": "eNOdl8Luf5yM"
      }
    },
    {
      "cell_type": "code",
      "source": [
        "! wc /etc/passwd\n",
        "! echo \"Total de linhas\" && wc -l /etc/passwd\n",
        "! echo \"Total de caracteres\" && wc -m /etc/passwd"
      ],
      "metadata": {
        "colab": {
          "base_uri": "https://localhost:8080/"
        },
        "id": "F0b2k34qfvZ3",
        "outputId": "9c5cbb6d-e2e6-4e20-e36e-de5648bd595f"
      },
      "execution_count": null,
      "outputs": [
        {
          "output_type": "stream",
          "name": "stdout",
          "text": [
            "  23   33 1247 /etc/passwd\n",
            "Total de linhas\n",
            "23 /etc/passwd\n",
            "Total de caracteres\n",
            "1247 /etc/passwd\n"
          ]
        }
      ]
    },
    {
      "cell_type": "markdown",
      "source": [
        "#### grep \n",
        "\n",
        "Localizar expressões em texto"
      ],
      "metadata": {
        "id": "AS3SMSblgfE-"
      }
    },
    {
      "cell_type": "code",
      "source": [
        "! head -n 5 /etc/passwd"
      ],
      "metadata": {
        "colab": {
          "base_uri": "https://localhost:8080/"
        },
        "id": "uR6TId4XhALE",
        "outputId": "eba60601-aa5b-4ae7-8be0-397a5067ed5e"
      },
      "execution_count": null,
      "outputs": [
        {
          "output_type": "stream",
          "name": "stdout",
          "text": [
            "root:x:0:0:root:/root:/bin/bash\n",
            "daemon:x:1:1:daemon:/usr/sbin:/usr/sbin/nologin\n",
            "bin:x:2:2:bin:/bin:/usr/sbin/nologin\n",
            "sys:x:3:3:sys:/dev:/usr/sbin/nologin\n",
            "sync:x:4:65534:sync:/bin:/bin/sync\n"
          ]
        }
      ]
    },
    {
      "cell_type": "code",
      "source": [
        "! grep \"root\" /etc/passwd"
      ],
      "metadata": {
        "colab": {
          "base_uri": "https://localhost:8080/"
        },
        "id": "U0PApHqxgxhM",
        "outputId": "a3008b47-acdc-4446-ebda-0a9515e2ccc4"
      },
      "execution_count": null,
      "outputs": [
        {
          "output_type": "stream",
          "name": "stdout",
          "text": [
            "root:x:0:0:root:/root:/bin/bash\n"
          ]
        }
      ]
    },
    {
      "cell_type": "code",
      "source": [
        "! head -n 5 /etc/passwd | grep -v \"root\""
      ],
      "metadata": {
        "colab": {
          "base_uri": "https://localhost:8080/"
        },
        "id": "wRJrfcyahMiz",
        "outputId": "30715a44-1bd1-458f-bd77-ef86328ea672"
      },
      "execution_count": null,
      "outputs": [
        {
          "output_type": "stream",
          "name": "stdout",
          "text": [
            "daemon:x:1:1:daemon:/usr/sbin:/usr/sbin/nologin\n",
            "bin:x:2:2:bin:/bin:/usr/sbin/nologin\n",
            "sys:x:3:3:sys:/dev:/usr/sbin/nologin\n",
            "sync:x:4:65534:sync:/bin:/bin/sync\n"
          ]
        }
      ]
    },
    {
      "cell_type": "code",
      "source": [
        "! grep -i \"rOot\" /etc/passwd"
      ],
      "metadata": {
        "colab": {
          "base_uri": "https://localhost:8080/"
        },
        "id": "YUjb6r1lhetu",
        "outputId": "a59d65fd-4836-4cf8-99f1-852b014fa64f"
      },
      "execution_count": null,
      "outputs": [
        {
          "output_type": "stream",
          "name": "stdout",
          "text": [
            "root:x:0:0:root:/root:/bin/bash\n"
          ]
        }
      ]
    },
    {
      "cell_type": "markdown",
      "source": [
        "#### cut \n",
        "\n",
        "Seleciona partes de um arquivo"
      ],
      "metadata": {
        "id": "zUmJXAF5hqqa"
      }
    },
    {
      "cell_type": "code",
      "source": [
        "! head -n 5 /etc/passwd"
      ],
      "metadata": {
        "colab": {
          "base_uri": "https://localhost:8080/"
        },
        "id": "IY8c_Ub6hyl4",
        "outputId": "d755d0c0-1035-4aad-cc5a-2ecd7eba000d"
      },
      "execution_count": null,
      "outputs": [
        {
          "output_type": "stream",
          "name": "stdout",
          "text": [
            "root:x:0:0:root:/root:/bin/bash\n",
            "daemon:x:1:1:daemon:/usr/sbin:/usr/sbin/nologin\n",
            "bin:x:2:2:bin:/bin:/usr/sbin/nologin\n",
            "sys:x:3:3:sys:/dev:/usr/sbin/nologin\n",
            "sync:x:4:65534:sync:/bin:/bin/sync\n"
          ]
        }
      ]
    },
    {
      "cell_type": "code",
      "source": [
        "! head -n 5 /etc/passwd > ./passwd.txt"
      ],
      "metadata": {
        "id": "gHKxqrb5h3e6"
      },
      "execution_count": null,
      "outputs": []
    },
    {
      "cell_type": "markdown",
      "source": [
        "Selecionando coluna 1, considerando \":\" como separador."
      ],
      "metadata": {
        "id": "mAITmgNFiayo"
      }
    },
    {
      "cell_type": "code",
      "source": [
        "! cut -d : -f1 ./passwd.txt"
      ],
      "metadata": {
        "colab": {
          "base_uri": "https://localhost:8080/"
        },
        "id": "3NhTA4PKh3Qr",
        "outputId": "2a83341b-78da-4dfc-8832-423c8329273f"
      },
      "execution_count": null,
      "outputs": [
        {
          "output_type": "stream",
          "name": "stdout",
          "text": [
            "root\n",
            "daemon\n",
            "bin\n",
            "sys\n",
            "sync\n"
          ]
        }
      ]
    },
    {
      "cell_type": "markdown",
      "source": [
        "Selecionando coluna 1 e 5, considerando \":\" como separador."
      ],
      "metadata": {
        "id": "lq8v-pG7ik2a"
      }
    },
    {
      "cell_type": "code",
      "source": [
        "! cut -d : -f1,5 ./passwd.txt"
      ],
      "metadata": {
        "colab": {
          "base_uri": "https://localhost:8080/"
        },
        "id": "_VBgCAdIh2_5",
        "outputId": "bd4b4aed-9043-49f1-fda7-b4f38fc37529"
      },
      "execution_count": null,
      "outputs": [
        {
          "output_type": "stream",
          "name": "stdout",
          "text": [
            "root:root\n",
            "daemon:daemon\n",
            "bin:bin\n",
            "sys:sys\n",
            "sync:sync\n"
          ]
        }
      ]
    },
    {
      "cell_type": "markdown",
      "source": [
        "Selecionando coluna 1 até 3, considerando \":\" como separador."
      ],
      "metadata": {
        "id": "TYfXKa9ji9rB"
      }
    },
    {
      "cell_type": "code",
      "source": [
        "! cut -d : -f1-3 ./passwd.txt"
      ],
      "metadata": {
        "colab": {
          "base_uri": "https://localhost:8080/"
        },
        "id": "6CRZ0f9uikGm",
        "outputId": "d3b2b48e-2ec6-4d5e-983f-6b156750b517"
      },
      "execution_count": null,
      "outputs": [
        {
          "output_type": "stream",
          "name": "stdout",
          "text": [
            "root:x:0\n",
            "daemon:x:1\n",
            "bin:x:2\n",
            "sys:x:3\n",
            "sync:x:4\n"
          ]
        }
      ]
    },
    {
      "cell_type": "markdown",
      "source": [
        "#### sort\n",
        "\n",
        "Ordena linha de acordo com uma coluna"
      ],
      "metadata": {
        "id": "lw45uChdjbTt"
      }
    },
    {
      "cell_type": "markdown",
      "source": [
        "Orderna pela 1ª coluna de forma ascedente."
      ],
      "metadata": {
        "id": "FwoopEm1kd3x"
      }
    },
    {
      "cell_type": "code",
      "source": [
        "! sort -t : -k 1,1 passwd.txt"
      ],
      "metadata": {
        "colab": {
          "base_uri": "https://localhost:8080/"
        },
        "id": "D4BrYHRgij19",
        "outputId": "cbbe981c-a284-4471-f683-7eba6a9f55cc"
      },
      "execution_count": null,
      "outputs": [
        {
          "output_type": "stream",
          "name": "stdout",
          "text": [
            "bin:x:2:2:bin:/bin:/usr/sbin/nologin\n",
            "daemon:x:1:1:daemon:/usr/sbin:/usr/sbin/nologin\n",
            "root:x:0:0:root:/root:/bin/bash\n",
            "sync:x:4:65534:sync:/bin:/bin/sync\n",
            "sys:x:3:3:sys:/dev:/usr/sbin/nologin\n"
          ]
        }
      ]
    },
    {
      "cell_type": "markdown",
      "source": [
        "Orderna pela 1ª coluna de forma decrescente"
      ],
      "metadata": {
        "id": "i-lwZg-0kxV2"
      }
    },
    {
      "cell_type": "code",
      "source": [
        "! sort -t : -r -k 1,1 passwd.txt"
      ],
      "metadata": {
        "colab": {
          "base_uri": "https://localhost:8080/"
        },
        "id": "QJRgRREekm7m",
        "outputId": "dd29805d-257c-49bf-f887-6e97a2ad6d09"
      },
      "execution_count": null,
      "outputs": [
        {
          "output_type": "stream",
          "name": "stdout",
          "text": [
            "sys:x:3:3:sys:/dev:/usr/sbin/nologin\n",
            "sync:x:4:65534:sync:/bin:/bin/sync\n",
            "root:x:0:0:root:/root:/bin/bash\n",
            "daemon:x:1:1:daemon:/usr/sbin:/usr/sbin/nologin\n",
            "bin:x:2:2:bin:/bin:/usr/sbin/nologin\n"
          ]
        }
      ]
    },
    {
      "cell_type": "markdown",
      "source": [
        "Ordenação por mais de uma coluna"
      ],
      "metadata": {
        "id": "mXkuMh3SlQzx"
      }
    },
    {
      "cell_type": "code",
      "source": [
        "! sort -t : -r -k 3,4 passwd.txt"
      ],
      "metadata": {
        "colab": {
          "base_uri": "https://localhost:8080/"
        },
        "id": "SKJurM-lk-bX",
        "outputId": "8f3cc968-1858-4682-e0fa-932d9b8e48b5"
      },
      "execution_count": null,
      "outputs": [
        {
          "output_type": "stream",
          "name": "stdout",
          "text": [
            "sync:x:4:65534:sync:/bin:/bin/sync\n",
            "sys:x:3:3:sys:/dev:/usr/sbin/nologin\n",
            "bin:x:2:2:bin:/bin:/usr/sbin/nologin\n",
            "daemon:x:1:1:daemon:/usr/sbin:/usr/sbin/nologin\n",
            "root:x:0:0:root:/root:/bin/bash\n"
          ]
        }
      ]
    },
    {
      "cell_type": "markdown",
      "source": [
        "Ordena 2ª coluan de forma descrescente e pela 3ª coluna de forma crescente."
      ],
      "metadata": {
        "id": "7eq7AS41nqTm"
      }
    },
    {
      "cell_type": "code",
      "source": [
        "! echo -e \"1:2:b\\n1:3:b\\n2:2:a\" > arq2\n",
        "! cat arq2"
      ],
      "metadata": {
        "colab": {
          "base_uri": "https://localhost:8080/"
        },
        "id": "8D2t2jeml_tU",
        "outputId": "8a1313cb-3886-421e-c0de-4eba5ed02381"
      },
      "execution_count": null,
      "outputs": [
        {
          "output_type": "stream",
          "name": "stdout",
          "text": [
            "1:2:b\n",
            "1:3:b\n",
            "2:2:a\n"
          ]
        }
      ]
    },
    {
      "cell_type": "code",
      "source": [
        "! sort -t : -r -k2,2 -k3,3nr arq2"
      ],
      "metadata": {
        "colab": {
          "base_uri": "https://localhost:8080/"
        },
        "id": "AUjN1vOnlVUF",
        "outputId": "900fc1ea-bd6e-4ef2-b6d9-5b665830653e"
      },
      "execution_count": null,
      "outputs": [
        {
          "output_type": "stream",
          "name": "stdout",
          "text": [
            "1:3:b\n",
            "2:2:a\n",
            "1:2:b\n"
          ]
        }
      ]
    },
    {
      "cell_type": "markdown",
      "source": [
        "### Permissões"
      ],
      "metadata": {
        "id": "_eepznD7oDJQ"
      }
    },
    {
      "cell_type": "markdown",
      "source": [
        "No linux tem basicamente as seguintes permissões:\n",
        "\n",
        "* r: Leitura\n",
        "* w: escrita\n",
        "* x: execução p/ arquivos ou acesso p/ pastas"
      ],
      "metadata": {
        "id": "6Pb_ebzloH2Z"
      }
    },
    {
      "cell_type": "code",
      "source": [
        "! ls -l "
      ],
      "metadata": {
        "colab": {
          "base_uri": "https://localhost:8080/"
        },
        "id": "B7EJYNnylVEm",
        "outputId": "71246300-1371-4311-b924-0bb998d7c0d0"
      },
      "execution_count": null,
      "outputs": [
        {
          "output_type": "stream",
          "name": "stdout",
          "text": [
            "total 16\n",
            "-rw-r--r-- 1 root root   23 Sep 30 03:12 arq1.sh\n",
            "-rw-r--r-- 1 root root   18 Sep 30 04:17 arq2\n",
            "-rw-r--r-- 1 root root  189 Sep 30 03:55 passwd.txt\n",
            "drwxr-xr-x 1 root root 4096 Sep 26 13:45 sample_data\n"
          ]
        }
      ]
    },
    {
      "cell_type": "markdown",
      "source": [
        "Na lista, na 1ª coluna, o 1º caracter indica:\n",
        "\n",
        "- \"-\" arquivo;\n",
        "- \"d\" pasta\n",
        "- \"l\" link simbólico\n",
        "- \"c\" dispositivo de caractere (teclado, monitor, ...)\n",
        "- \"b\" dispositivo de bloco\n",
        "\n",
        "Os noves caracteres seguintes indicam os direitos do dono, grupo do dono e outros usuários\n",
        "\n",
        "2ª coluna indica o dono do arquivo/pasta  \n",
        "3ª coluna grupo(s) do dono(s) arquivo/pasta  \n",
        "4ª coluna tamahno em bytes do arquivo  \n",
        "5ª coluna data de alteração (Mẽs e dia)  \n",
        "6ª coluna nome do arquivo/pasta  \n"
      ],
      "metadata": {
        "id": "DmXjn5uzo8j2"
      }
    },
    {
      "cell_type": "markdown",
      "source": [
        "#### chmod"
      ],
      "metadata": {
        "id": "Qe1UQOF1xFEK"
      }
    },
    {
      "cell_type": "markdown",
      "source": [
        "`chmod [ugoa] [+=-] [rwx] arquivo`\n",
        "\n",
        "Usuário e Grupos\n",
        "\n",
        "* u: Altera para o dono\n",
        "* g: Altera para o grupo do dono\n",
        "* o: Altera para os outros usuários\n",
        "* a: Altera para todos\n",
        "\n",
        "Conceder ou retirar\n",
        "\n",
        "* \"+\": Concede\n",
        "* \"-\": Retira\n",
        "* \"=\": Substitui as permissões pelas informadas\n",
        "\n",
        "Permissões\n",
        "\n",
        "* r: leitura\n",
        "* w: escrita\n",
        "* x: execução ou acesso"
      ],
      "metadata": {
        "id": "ZgTYgdqBqiF1"
      }
    },
    {
      "cell_type": "code",
      "source": [
        "! echo \"echo -e \\\"Quem sou eu \\$(whoami)\\\"\" > arq1.sh\n",
        "! cat arq1.sh"
      ],
      "metadata": {
        "colab": {
          "base_uri": "https://localhost:8080/"
        },
        "id": "5FT56T76r3JO",
        "outputId": "34496b7f-a7ed-4112-ee78-cd12c21d208c"
      },
      "execution_count": null,
      "outputs": [
        {
          "output_type": "stream",
          "name": "stdout",
          "text": [
            "echo -e \"Quem sou eu $(whoami)\"\n"
          ]
        }
      ]
    },
    {
      "cell_type": "code",
      "source": [
        "! ls -l"
      ],
      "metadata": {
        "colab": {
          "base_uri": "https://localhost:8080/"
        },
        "id": "tZBUBFLRfzqo",
        "outputId": "adfeeb5c-8381-4d57-b73b-4f60f042c6ed"
      },
      "execution_count": null,
      "outputs": [
        {
          "output_type": "stream",
          "name": "stdout",
          "text": [
            "total 16\n",
            "-rw-r--r-- 1 root root   32 Sep 30 04:39 arq1.sh\n",
            "-rw-r--r-- 1 root root   18 Sep 30 04:17 arq2\n",
            "-rw-r--r-- 1 root root  189 Sep 30 03:55 passwd.txt\n",
            "drwxr-xr-x 1 root root 4096 Sep 26 13:45 sample_data\n"
          ]
        }
      ]
    },
    {
      "cell_type": "markdown",
      "source": [
        "Acrescentando o direito de excução ao dono, e preservcando os demais direitos para o grupo do dono, e retirar os direitos dos outros."
      ],
      "metadata": {
        "id": "Cj--Z6tCsgiF"
      }
    },
    {
      "cell_type": "code",
      "source": [
        "! chmod u+r+w+x,g=r,o-r arq1.sh\n",
        "! ls -l"
      ],
      "metadata": {
        "colab": {
          "base_uri": "https://localhost:8080/"
        },
        "id": "4JEmgWthgrJE",
        "outputId": "85bed41f-b020-4a0c-aab0-70c446099893"
      },
      "execution_count": null,
      "outputs": [
        {
          "output_type": "stream",
          "name": "stdout",
          "text": [
            "total 16\n",
            "-rwxr----- 1 root root   32 Sep 30 04:39 arq1.sh\n",
            "-rw-r--r-- 1 root root   18 Sep 30 04:17 arq2\n",
            "-rw-r--r-- 1 root root  189 Sep 30 03:55 passwd.txt\n",
            "drwxr-xr-x 1 root root 4096 Sep 26 13:45 sample_data\n"
          ]
        }
      ]
    },
    {
      "cell_type": "code",
      "source": [
        "! ./arq1.sh"
      ],
      "metadata": {
        "colab": {
          "base_uri": "https://localhost:8080/"
        },
        "id": "2URYpGRwtLyP",
        "outputId": "22cbc456-766b-4d79-9a7a-ad1af8115090"
      },
      "execution_count": null,
      "outputs": [
        {
          "output_type": "stream",
          "name": "stdout",
          "text": [
            "Quem sou eu root\n"
          ]
        }
      ]
    },
    {
      "cell_type": "markdown",
      "source": [
        "Atribuindo direito de escrita ao grupo do dono."
      ],
      "metadata": {
        "id": "l7DgU0FitoOv"
      }
    },
    {
      "cell_type": "code",
      "source": [
        "! chmod 760 arq1.sh\n",
        "! ls -l"
      ],
      "metadata": {
        "colab": {
          "base_uri": "https://localhost:8080/"
        },
        "id": "EXVM4HnwtXxI",
        "outputId": "4c713898-a669-4080-c753-deaf73d2f0d2"
      },
      "execution_count": null,
      "outputs": [
        {
          "output_type": "stream",
          "name": "stdout",
          "text": [
            "total 16\n",
            "-rwxrw---- 1 root root   32 Sep 30 04:39 arq1.sh\n",
            "-rw-r--r-- 1 root root   18 Sep 30 04:17 arq2\n",
            "-rw-r--r-- 1 root root  189 Sep 30 03:55 passwd.txt\n",
            "drwxr-xr-x 1 root root 4096 Sep 26 13:45 sample_data\n"
          ]
        }
      ]
    },
    {
      "cell_type": "markdown",
      "source": [
        "É possível atribuir direitos através do sistema numério octal.\n",
        "\n",
        "Veja a tabela\n",
        "\n",
        "Número Octal|1º bit|2º bit|3º bit\n",
        "------------|------|------|--------\n",
        "0|0|0|0\n",
        "1|0|0|1\n",
        "2|0|1|0\n",
        "3|0|1|1\n",
        "4|1|0|0\n",
        "5|1|0|1\n",
        "6|1|1|0\n",
        "7|1|1|1\n",
        "\n",
        "Analisnado o comando anteior\n",
        "\n",
        "`chmod 760 arq1.sh` \n",
        "\n",
        "\"Acendemos os bits\", concedeu-se a permissão de leitura, escrita e execução para o dono; concedeu-se a permissão de leitura, escrita para o grupo do dono e negou-se todas as permissões para os outros usuários."
      ],
      "metadata": {
        "id": "CkgQWf1Qt_XH"
      }
    },
    {
      "cell_type": "markdown",
      "source": [
        "Concedendo a todos o direito de execução"
      ],
      "metadata": {
        "id": "o-Iq2eU2vtd0"
      }
    },
    {
      "cell_type": "code",
      "source": [
        "! chmod +x arq1.sh\n",
        "! ls -l"
      ],
      "metadata": {
        "colab": {
          "base_uri": "https://localhost:8080/"
        },
        "id": "cD_2Nosdt8bx",
        "outputId": "bda388c0-65d5-48a9-8ee3-fbfa1c69a846"
      },
      "execution_count": null,
      "outputs": [
        {
          "output_type": "stream",
          "name": "stdout",
          "text": [
            "total 16\n",
            "-rwxrwx--x 1 root root   32 Sep 30 04:39 arq1.sh\n",
            "-rw-r--r-- 1 root root   18 Sep 30 04:17 arq2\n",
            "-rw-r--r-- 1 root root  189 Sep 30 03:55 passwd.txt\n",
            "drwxr-xr-x 1 root root 4096 Sep 26 13:45 sample_data\n"
          ]
        }
      ]
    },
    {
      "cell_type": "markdown",
      "source": [
        "> Nota: Sempre bom colocar o caminho do copilador no shells scripts."
      ],
      "metadata": {
        "id": "fPgNB3QSv8_S"
      }
    },
    {
      "cell_type": "code",
      "source": [
        "! echo -e \"#!/bin/bash\\necho whoami: Comando que mostra usuario logado\\necho -e \\\"Quem sou eu \\$(whoami)\\\"\" > arq1.sh\n",
        "! cat arq1.sh"
      ],
      "metadata": {
        "colab": {
          "base_uri": "https://localhost:8080/"
        },
        "id": "v2_77hOTv4V2",
        "outputId": "a5301473-ca78-4c97-cfad-605978f01854"
      },
      "execution_count": null,
      "outputs": [
        {
          "output_type": "stream",
          "name": "stdout",
          "text": [
            "#!/bin/bash\n",
            "echo whoami: Comando que mostra usuario logado\n",
            "echo -e \"Quem sou eu $(whoami)\"\n"
          ]
        }
      ]
    },
    {
      "cell_type": "code",
      "source": [
        "! ls -l"
      ],
      "metadata": {
        "colab": {
          "base_uri": "https://localhost:8080/"
        },
        "id": "3LNdzBSXwfP0",
        "outputId": "ffffa823-94b2-4efe-a7ac-616af76c983e"
      },
      "execution_count": null,
      "outputs": [
        {
          "output_type": "stream",
          "name": "stdout",
          "text": [
            "total 16\n",
            "-rwxrwx--x 1 root root   91 Sep 30 04:58 arq1.sh\n",
            "-rw-r--r-- 1 root root   18 Sep 30 04:17 arq2\n",
            "-rw-r--r-- 1 root root  189 Sep 30 03:55 passwd.txt\n",
            "drwxr-xr-x 1 root root 4096 Sep 26 13:45 sample_data\n"
          ]
        }
      ]
    },
    {
      "cell_type": "code",
      "source": [
        "! ./arq1.sh"
      ],
      "metadata": {
        "colab": {
          "base_uri": "https://localhost:8080/"
        },
        "id": "CY5olH-uwsEv",
        "outputId": "561ddc0c-adb2-4849-ef12-dab7d40f803e"
      },
      "execution_count": null,
      "outputs": [
        {
          "output_type": "stream",
          "name": "stdout",
          "text": [
            "whoami: Comando que mostra usuario logado\n",
            "Quem sou eu root\n"
          ]
        }
      ]
    },
    {
      "cell_type": "markdown",
      "source": [
        "### Outros comandos"
      ],
      "metadata": {
        "id": "rIX4vZvUEd_C"
      }
    },
    {
      "cell_type": "markdown",
      "source": [
        "#### Arquivos ZIP: zip\n",
        "\n",
        "Compactar arquivos no formato zip"
      ],
      "metadata": {
        "id": "E4ctds37EoDT"
      }
    },
    {
      "cell_type": "code",
      "source": [
        "! ls -l"
      ],
      "metadata": {
        "colab": {
          "base_uri": "https://localhost:8080/"
        },
        "id": "MFJ9wc2vE1eA",
        "outputId": "a1da8456-8dc6-479a-d6a3-87f614fc5998"
      },
      "execution_count": 6,
      "outputs": [
        {
          "output_type": "stream",
          "name": "stdout",
          "text": [
            "total 4\n",
            "drwxr-xr-x 1 root root 4096 Sep 26 13:45 sample_data\n"
          ]
        }
      ]
    },
    {
      "cell_type": "code",
      "source": [
        "! zip sample_data.zip sample_data/mnist_train_small.csv"
      ],
      "metadata": {
        "colab": {
          "base_uri": "https://localhost:8080/"
        },
        "id": "LvCocaDGEm3N",
        "outputId": "38c7c70c-836f-4e37-b549-700c161ce9f6"
      },
      "execution_count": 20,
      "outputs": [
        {
          "output_type": "stream",
          "name": "stdout",
          "text": [
            "  adding: sample_data/mnist_train_small.csv (deflated 88%)\n"
          ]
        }
      ]
    },
    {
      "cell_type": "code",
      "source": [
        "! zip -q sample_data1.zip sample_data/*"
      ],
      "metadata": {
        "id": "EkEd-k0tF20U"
      },
      "execution_count": 21,
      "outputs": []
    },
    {
      "cell_type": "code",
      "source": [
        "! ls -lh"
      ],
      "metadata": {
        "id": "_9AdhZs1wwzT",
        "colab": {
          "base_uri": "https://localhost:8080/"
        },
        "outputId": "9e87f6f8-5d61-4f77-bae7-f25c46a18988"
      },
      "execution_count": 22,
      "outputs": [
        {
          "output_type": "stream",
          "name": "stdout",
          "text": [
            "total 11M\n",
            "drwxr-xr-x 1 root root 4.0K Sep 26 13:45 sample_data\n",
            "-rw-r--r-- 1 root root 6.8M Oct  1 01:12 sample_data1.zip\n",
            "-rw-r--r-- 1 root root 4.3M Oct  1 01:12 sample_data.zip\n"
          ]
        }
      ]
    },
    {
      "cell_type": "markdown",
      "source": [
        "#### Arquivos ZIP: unzip\n",
        "\n",
        "Descompactar arquivos no formato zip."
      ],
      "metadata": {
        "id": "BhjHK9xDEc4B"
      }
    },
    {
      "cell_type": "markdown",
      "source": [
        "Vendo arquivos compactados"
      ],
      "metadata": {
        "id": "Ll_O86_HGn7R"
      }
    },
    {
      "cell_type": "code",
      "source": [
        "! unzip -v sample_data1.zip"
      ],
      "metadata": {
        "colab": {
          "base_uri": "https://localhost:8080/"
        },
        "id": "UDF5_0qCFjds",
        "outputId": "38b65214-d91e-4e4b-8abc-1aa10e5cdb13"
      },
      "execution_count": 23,
      "outputs": [
        {
          "output_type": "stream",
          "name": "stdout",
          "text": [
            "Archive:  sample_data1.zip\n",
            " Length   Method    Size  Cmpr    Date    Time   CRC-32   Name\n",
            "--------  ------  ------- ---- ---------- ----- --------  ----\n",
            "    1697  Defl:N      295  83% 2000-01-01 08:00 4de53d09  sample_data/anscombe.json\n",
            "  301141  Defl:N    71406  76% 2022-09-26 13:45 4dfe3c6c  sample_data/california_housing_test.csv\n",
            " 1706430  Defl:N   362688  79% 2022-09-26 13:45 04ae3168  sample_data/california_housing_train.csv\n",
            "18289443  Defl:N  2205571  88% 2022-09-26 13:45 2a0e1873  sample_data/mnist_test.csv\n",
            "36523880  Defl:N  4422112  88% 2022-09-26 13:45 add1731d  sample_data/mnist_train_small.csv\n",
            "     930  Defl:N      537  42% 2000-01-01 08:00 238dd4af  sample_data/README.md\n",
            "--------          -------  ---                            -------\n",
            "56823521          7062609  88%                            6 files\n"
          ]
        }
      ]
    },
    {
      "cell_type": "code",
      "source": [
        "! mv sample_data sample_data_or"
      ],
      "metadata": {
        "id": "7fXR2ntGFoFz"
      },
      "execution_count": 25,
      "outputs": []
    },
    {
      "cell_type": "code",
      "source": [
        "! ls -l"
      ],
      "metadata": {
        "colab": {
          "base_uri": "https://localhost:8080/"
        },
        "id": "oWFSPhwbGxfC",
        "outputId": "db3cccf2-0b80-4440-9869-8d8e6f196dd4"
      },
      "execution_count": 27,
      "outputs": [
        {
          "output_type": "stream",
          "name": "stdout",
          "text": [
            "total 11224\n",
            "-rw-r--r-- 1 root root 7063767 Oct  1 01:12 sample_data1.zip\n",
            "drwxr-xr-x 2 root root    4096 Sep 26 13:45 sample_data_or\n",
            "-rw-r--r-- 1 root root 4422328 Oct  1 01:12 sample_data.zip\n"
          ]
        }
      ]
    },
    {
      "cell_type": "code",
      "source": [
        "! unzip sample_data.zip"
      ],
      "metadata": {
        "colab": {
          "base_uri": "https://localhost:8080/"
        },
        "id": "uzSUIlIvG7fF",
        "outputId": "961f4beb-0ccb-4e97-dcb6-27b4a35c15a4"
      },
      "execution_count": 28,
      "outputs": [
        {
          "output_type": "stream",
          "name": "stdout",
          "text": [
            "Archive:  sample_data.zip\n",
            "  inflating: sample_data/mnist_train_small.csv  \n"
          ]
        }
      ]
    },
    {
      "cell_type": "code",
      "source": [
        "! ls"
      ],
      "metadata": {
        "colab": {
          "base_uri": "https://localhost:8080/"
        },
        "id": "-MAfNZCnHIHx",
        "outputId": "a118d064-96a8-4a4d-9a2a-1df01163dd6f"
      },
      "execution_count": 29,
      "outputs": [
        {
          "output_type": "stream",
          "name": "stdout",
          "text": [
            "sample_data  sample_data1.zip  sample_data_or  sample_data.zip\n"
          ]
        }
      ]
    },
    {
      "cell_type": "code",
      "source": [
        "! ls -l sample_data"
      ],
      "metadata": {
        "colab": {
          "base_uri": "https://localhost:8080/"
        },
        "id": "WE5zYNzZHK0X",
        "outputId": "0aaddc78-a91b-47e5-ff6e-210752cb8ba4"
      },
      "execution_count": 31,
      "outputs": [
        {
          "output_type": "stream",
          "name": "stdout",
          "text": [
            "total 35668\n",
            "-rw-r--r-- 1 root root 36523880 Sep 26 13:45 mnist_train_small.csv\n"
          ]
        }
      ]
    },
    {
      "cell_type": "markdown",
      "source": [
        "#### Compactação GZIP"
      ],
      "metadata": {
        "id": "qnrXazxAZSU5"
      }
    },
    {
      "cell_type": "markdown",
      "source": [
        "Compactando arquivos"
      ],
      "metadata": {
        "id": "Ckbn5RjQZZHx"
      }
    },
    {
      "cell_type": "code",
      "source": [
        "! ls -l"
      ],
      "metadata": {
        "colab": {
          "base_uri": "https://localhost:8080/"
        },
        "id": "YdIZcMcfIRY8",
        "outputId": "a85069aa-2d5d-4aeb-e7d3-4806fd88675a"
      },
      "execution_count": null,
      "outputs": [
        {
          "output_type": "stream",
          "name": "stdout",
          "text": [
            "total 11232\n",
            "-rw-r--r-- 1 root root     102 Oct  1 01:40 prg1.sh\n",
            "drwxr-xr-x 2 root root    4096 Oct  1 01:15 sample_data\n",
            "-rw-r--r-- 1 root root 7063767 Oct  1 01:12 sample_data1.zip\n",
            "drwxr-xr-x 2 root root    4096 Sep 26 13:45 sample_data_or\n",
            "-rw-r--r-- 1 root root 4422328 Oct  1 01:12 sample_data.zip\n"
          ]
        }
      ]
    },
    {
      "cell_type": "code",
      "source": [
        "! mkdir tar_arqs"
      ],
      "metadata": {
        "id": "aAOFC5MANovu"
      },
      "execution_count": null,
      "outputs": []
    },
    {
      "cell_type": "code",
      "source": [
        "! tar cfz ./tar_arqs/sample_data.tar.gzip sample_data"
      ],
      "metadata": {
        "id": "OrLwVEq6Ny0c"
      },
      "execution_count": null,
      "outputs": []
    },
    {
      "cell_type": "code",
      "source": [
        "! ls -lh tar_arqs"
      ],
      "metadata": {
        "colab": {
          "base_uri": "https://localhost:8080/"
        },
        "id": "1-ECfrUxOqSa",
        "outputId": "d119062c-c975-4820-f310-0699d7d43440"
      },
      "execution_count": null,
      "outputs": [
        {
          "output_type": "stream",
          "name": "stdout",
          "text": [
            "total 4.3M\n",
            "-rw-r--r-- 1 root root 4.3M Oct  1 01:47 sample_data.tar.gzip\n"
          ]
        }
      ]
    },
    {
      "cell_type": "markdown",
      "source": [
        "Visualizando arquivos compactados."
      ],
      "metadata": {
        "id": "UGOmVggJZgSr"
      }
    },
    {
      "cell_type": "code",
      "source": [
        "! tar tfz ./tar_arqs/sample_data.tar.gzip"
      ],
      "metadata": {
        "colab": {
          "base_uri": "https://localhost:8080/"
        },
        "id": "y-t3qBLLOqEt",
        "outputId": "de395a8f-860b-4078-e962-25cd88b3bccc"
      },
      "execution_count": null,
      "outputs": [
        {
          "output_type": "stream",
          "name": "stdout",
          "text": [
            "sample_data/\n",
            "sample_data/mnist_train_small.csv\n"
          ]
        }
      ]
    },
    {
      "cell_type": "markdown",
      "source": [
        "Descompactando os arquivos compactados"
      ],
      "metadata": {
        "id": "ZX7OfNAzZsgM"
      }
    },
    {
      "cell_type": "code",
      "source": [
        "! ls -l"
      ],
      "metadata": {
        "colab": {
          "base_uri": "https://localhost:8080/"
        },
        "id": "3o8h8h7BPrZB",
        "outputId": "082354b1-bcf1-462e-fecb-e662d97b483e"
      },
      "execution_count": null,
      "outputs": [
        {
          "output_type": "stream",
          "name": "stdout",
          "text": [
            "total 46908\n",
            "-rw-r--r-- 1 root root      102 Oct  1 01:40 prg1.sh\n",
            "drwxr-xr-x 2 root root     4096 Oct  1 01:15 sample_data\n",
            "-rw-r--r-- 1 root root  7063767 Oct  1 01:12 sample_data1.zip\n",
            "drwxr-xr-x 2 root root     4096 Sep 26 13:45 sample_data_or\n",
            "-rw-r--r-- 1 root root  4422328 Oct  1 01:12 sample_data.zip\n",
            "drwxr-xr-x 2 root root     4096 Oct  1 01:47 tar_arqs\n",
            "-rw-r--r-- 1 root root 36526080 Oct  1 01:47 z\n"
          ]
        }
      ]
    },
    {
      "cell_type": "code",
      "source": [
        "! rm -r sample_data \n",
        "! ls -l"
      ],
      "metadata": {
        "colab": {
          "base_uri": "https://localhost:8080/"
        },
        "id": "AwBVnqtrPxJQ",
        "outputId": "6730c87c-e5cc-4047-a4e5-36ef9417aee8"
      },
      "execution_count": null,
      "outputs": [
        {
          "output_type": "stream",
          "name": "stdout",
          "text": [
            "total 46904\n",
            "-rw-r--r-- 1 root root      102 Oct  1 01:40 prg1.sh\n",
            "-rw-r--r-- 1 root root  7063767 Oct  1 01:12 sample_data1.zip\n",
            "drwxr-xr-x 2 root root     4096 Sep 26 13:45 sample_data_or\n",
            "-rw-r--r-- 1 root root  4422328 Oct  1 01:12 sample_data.zip\n",
            "drwxr-xr-x 2 root root     4096 Oct  1 01:47 tar_arqs\n",
            "-rw-r--r-- 1 root root 36526080 Oct  1 01:47 z\n"
          ]
        }
      ]
    },
    {
      "cell_type": "code",
      "source": [
        "! tar xfz ./tar_arqs/sample_data.tar.gzip"
      ],
      "metadata": {
        "id": "b-OubDq5Op4P"
      },
      "execution_count": null,
      "outputs": []
    },
    {
      "cell_type": "code",
      "source": [
        "! ls -l"
      ],
      "metadata": {
        "colab": {
          "base_uri": "https://localhost:8080/"
        },
        "id": "ZG9i5x6yOpnW",
        "outputId": "89069de3-3037-4334-a2ee-213b56472e25"
      },
      "execution_count": null,
      "outputs": [
        {
          "output_type": "stream",
          "name": "stdout",
          "text": [
            "total 46908\n",
            "-rw-r--r-- 1 root root      102 Oct  1 01:40 prg1.sh\n",
            "drwxr-xr-x 2 root root     4096 Oct  1 01:15 sample_data\n",
            "-rw-r--r-- 1 root root  7063767 Oct  1 01:12 sample_data1.zip\n",
            "drwxr-xr-x 2 root root     4096 Sep 26 13:45 sample_data_or\n",
            "-rw-r--r-- 1 root root  4422328 Oct  1 01:12 sample_data.zip\n",
            "drwxr-xr-x 2 root root     4096 Oct  1 01:47 tar_arqs\n",
            "-rw-r--r-- 1 root root 36526080 Oct  1 01:47 z\n"
          ]
        }
      ]
    },
    {
      "cell_type": "markdown",
      "source": [
        "#### Compactação no formato BZIP"
      ],
      "metadata": {
        "id": "0yZxua5AZ0Bp"
      }
    },
    {
      "cell_type": "markdown",
      "source": [
        "compactando arquivos"
      ],
      "metadata": {
        "id": "s7d14XZOawiq"
      }
    },
    {
      "cell_type": "code",
      "source": [
        "! tar cfj ./tar_arqs/sample_data.tar.bz2 sample_data"
      ],
      "metadata": {
        "id": "EAjH9qERQYC2"
      },
      "execution_count": null,
      "outputs": []
    },
    {
      "cell_type": "code",
      "source": [
        "! ls -lh tar_arqs"
      ],
      "metadata": {
        "colab": {
          "base_uri": "https://localhost:8080/"
        },
        "id": "Xmq__-XOaWK5",
        "outputId": "ade32d91-176b-44eb-b138-b38ad385d7ea"
      },
      "execution_count": null,
      "outputs": [
        {
          "output_type": "stream",
          "name": "stdout",
          "text": [
            "total 7.3M\n",
            "-rw-r--r-- 1 root root 3.1M Oct  1 02:39 sample_data.tar.bz2\n",
            "-rw-r--r-- 1 root root 4.3M Oct  1 01:47 sample_data.tar.gzip\n"
          ]
        }
      ]
    },
    {
      "cell_type": "markdown",
      "source": [
        "Visualizando arquivos compactados"
      ],
      "metadata": {
        "id": "7yCoip5CaiiT"
      }
    },
    {
      "cell_type": "code",
      "source": [
        "! tar tfj ./tar_arqs/sample_data.tar.bz2"
      ],
      "metadata": {
        "colab": {
          "base_uri": "https://localhost:8080/"
        },
        "id": "_cyFPvTVambX",
        "outputId": "769b99e1-50d0-4e48-fc27-27adeb088c1b"
      },
      "execution_count": null,
      "outputs": [
        {
          "output_type": "stream",
          "name": "stdout",
          "text": [
            "sample_data/\n",
            "sample_data/mnist_train_small.csv\n"
          ]
        }
      ]
    },
    {
      "cell_type": "markdown",
      "source": [
        "Extraindo arquivos"
      ],
      "metadata": {
        "id": "4hezrivea9Zx"
      }
    },
    {
      "cell_type": "code",
      "source": [
        "! ls -l"
      ],
      "metadata": {
        "colab": {
          "base_uri": "https://localhost:8080/"
        },
        "id": "yRcANjvkbFOP",
        "outputId": "c0bc57d5-f242-419c-f73d-5034ae22c82b"
      },
      "execution_count": null,
      "outputs": [
        {
          "output_type": "stream",
          "name": "stdout",
          "text": [
            "total 46908\n",
            "-rw-r--r-- 1 root root      102 Oct  1 01:40 prg1.sh\n",
            "drwxr-xr-x 2 root root     4096 Oct  1 01:15 sample_data\n",
            "-rw-r--r-- 1 root root  7063767 Oct  1 01:12 sample_data1.zip\n",
            "drwxr-xr-x 2 root root     4096 Sep 26 13:45 sample_data_or\n",
            "-rw-r--r-- 1 root root  4422328 Oct  1 01:12 sample_data.zip\n",
            "drwxr-xr-x 2 root root     4096 Oct  1 02:39 tar_arqs\n",
            "-rw-r--r-- 1 root root 36526080 Oct  1 01:47 z\n"
          ]
        }
      ]
    },
    {
      "cell_type": "code",
      "source": [
        "! rm -r sample_data"
      ],
      "metadata": {
        "id": "wedybzxAbIso"
      },
      "execution_count": null,
      "outputs": []
    },
    {
      "cell_type": "code",
      "source": [
        "! ls -l"
      ],
      "metadata": {
        "colab": {
          "base_uri": "https://localhost:8080/"
        },
        "id": "ta4PC_OybNdZ",
        "outputId": "5e71237a-e2bf-404f-eb44-bb3059c85589"
      },
      "execution_count": null,
      "outputs": [
        {
          "output_type": "stream",
          "name": "stdout",
          "text": [
            "total 46904\n",
            "-rw-r--r-- 1 root root      102 Oct  1 01:40 prg1.sh\n",
            "-rw-r--r-- 1 root root  7063767 Oct  1 01:12 sample_data1.zip\n",
            "drwxr-xr-x 2 root root     4096 Sep 26 13:45 sample_data_or\n",
            "-rw-r--r-- 1 root root  4422328 Oct  1 01:12 sample_data.zip\n",
            "drwxr-xr-x 2 root root     4096 Oct  1 02:39 tar_arqs\n",
            "-rw-r--r-- 1 root root 36526080 Oct  1 01:47 z\n"
          ]
        }
      ]
    },
    {
      "cell_type": "code",
      "source": [
        "! tar xfj ./tar_arqs/sample_data.tar.bz2"
      ],
      "metadata": {
        "id": "KA5GWOJnbUYy"
      },
      "execution_count": null,
      "outputs": []
    },
    {
      "cell_type": "code",
      "source": [
        "! ls -l"
      ],
      "metadata": {
        "colab": {
          "base_uri": "https://localhost:8080/"
        },
        "id": "fWAN1ld4bdNT",
        "outputId": "6e4a7467-5fd8-4cd9-f1dd-730a4db116bb"
      },
      "execution_count": null,
      "outputs": [
        {
          "output_type": "stream",
          "name": "stdout",
          "text": [
            "total 46908\n",
            "-rw-r--r-- 1 root root      102 Oct  1 01:40 prg1.sh\n",
            "drwxr-xr-x 2 root root     4096 Oct  1 01:15 sample_data\n",
            "-rw-r--r-- 1 root root  7063767 Oct  1 01:12 sample_data1.zip\n",
            "drwxr-xr-x 2 root root     4096 Sep 26 13:45 sample_data_or\n",
            "-rw-r--r-- 1 root root  4422328 Oct  1 01:12 sample_data.zip\n",
            "drwxr-xr-x 2 root root     4096 Oct  1 02:39 tar_arqs\n",
            "-rw-r--r-- 1 root root 36526080 Oct  1 01:47 z\n"
          ]
        }
      ]
    },
    {
      "cell_type": "markdown",
      "source": [
        "#### Trabalhando com datas - date"
      ],
      "metadata": {
        "id": "nS88bfecHXaz"
      }
    },
    {
      "cell_type": "code",
      "source": [
        "! date"
      ],
      "metadata": {
        "colab": {
          "base_uri": "https://localhost:8080/"
        },
        "id": "RKm_16mTHRLE",
        "outputId": "040e3824-e1da-4b46-8075-c70d65f8e72b"
      },
      "execution_count": 32,
      "outputs": [
        {
          "output_type": "stream",
          "name": "stdout",
          "text": [
            "Sat Oct  1 01:16:54 UTC 2022\n"
          ]
        }
      ]
    },
    {
      "cell_type": "code",
      "source": [
        "! date +%d/%m/%Y"
      ],
      "metadata": {
        "colab": {
          "base_uri": "https://localhost:8080/"
        },
        "id": "x3pr2UL_Hhlo",
        "outputId": "2f0ee9ba-3f85-40fe-a5cb-377cc24bd2e7"
      },
      "execution_count": 38,
      "outputs": [
        {
          "output_type": "stream",
          "name": "stdout",
          "text": [
            "01/10/2022\n"
          ]
        }
      ]
    },
    {
      "cell_type": "code",
      "source": [
        "! date +%T"
      ],
      "metadata": {
        "colab": {
          "base_uri": "https://localhost:8080/"
        },
        "id": "Gm9RcS2pHoT7",
        "outputId": "de0a45ca-5568-4fc1-e506-1c97efdb2bd1"
      },
      "execution_count": 39,
      "outputs": [
        {
          "output_type": "stream",
          "name": "stdout",
          "text": [
            "01:19:16\n"
          ]
        }
      ]
    },
    {
      "cell_type": "markdown",
      "source": [
        "#### Informações do sistema operacional\n",
        "\n",
        "**uname**"
      ],
      "metadata": {
        "id": "RgTFTN7KIIuM"
      }
    },
    {
      "cell_type": "code",
      "source": [
        "! uname"
      ],
      "metadata": {
        "colab": {
          "base_uri": "https://localhost:8080/"
        },
        "id": "G0aPWGjzIEVM",
        "outputId": "40de6292-395c-4b11-99a3-df02b21d94f5"
      },
      "execution_count": 40,
      "outputs": [
        {
          "output_type": "stream",
          "name": "stdout",
          "text": [
            "Linux\n"
          ]
        }
      ]
    },
    {
      "cell_type": "code",
      "source": [
        "! uname -a"
      ],
      "metadata": {
        "colab": {
          "base_uri": "https://localhost:8080/"
        },
        "id": "w8PKw3ZSIelh",
        "outputId": "78f3b034-4949-41b1-dffe-acccefb42141"
      },
      "execution_count": 48,
      "outputs": [
        {
          "output_type": "stream",
          "name": "stdout",
          "text": [
            "Linux 23f00483297c 5.10.133+ #1 SMP Fri Aug 26 08:44:51 UTC 2022 x86_64 x86_64 x86_64 GNU/Linux\n"
          ]
        }
      ]
    },
    {
      "cell_type": "code",
      "source": [
        "! uname --help"
      ],
      "metadata": {
        "colab": {
          "base_uri": "https://localhost:8080/"
        },
        "id": "6KBqAJkpIOGl",
        "outputId": "37dff351-3a96-4824-9db8-21dd04de9f21"
      },
      "execution_count": 43,
      "outputs": [
        {
          "output_type": "stream",
          "name": "stdout",
          "text": [
            "Usage: uname [OPTION]...\n",
            "Print certain system information.  With no OPTION, same as -s.\n",
            "\n",
            "  -a, --all                print all information, in the following order,\n",
            "                             except omit -p and -i if unknown:\n",
            "  -s, --kernel-name        print the kernel name\n",
            "  -n, --nodename           print the network node hostname\n",
            "  -r, --kernel-release     print the kernel release\n",
            "  -v, --kernel-version     print the kernel version\n",
            "  -m, --machine            print the machine hardware name\n",
            "  -p, --processor          print the processor type (non-portable)\n",
            "  -i, --hardware-platform  print the hardware platform (non-portable)\n",
            "  -o, --operating-system   print the operating system\n",
            "      --help     display this help and exit\n",
            "      --version  output version information and exit\n",
            "\n",
            "GNU coreutils online help: <http://www.gnu.org/software/coreutils/>\n",
            "Full documentation at: <http://www.gnu.org/software/coreutils/uname>\n",
            "or available locally via: info '(coreutils) uname invocation'\n"
          ]
        }
      ]
    },
    {
      "cell_type": "code",
      "source": [],
      "metadata": {
        "id": "NrJlajyBbq8q"
      },
      "execution_count": null,
      "outputs": []
    }
  ]
}