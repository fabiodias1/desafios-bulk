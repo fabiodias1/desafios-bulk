{
  "nbformat": 4,
  "nbformat_minor": 0,
  "metadata": {
    "colab": {
      "provenance": []
    },
    "kernelspec": {
      "name": "python3",
      "display_name": "Python 3"
    },
    "language_info": {
      "name": "python"
    }
  },
  "cells": [
    {
      "cell_type": "markdown",
      "metadata": {
        "id": "zgQOB5R566do"
      },
      "source": [
        "# Dicas Linux"
      ]
    },
    {
      "cell_type": "markdown",
      "source": [
        "## Introdução"
      ],
      "metadata": {
        "id": "b14MD6VTkt6X"
      }
    },
    {
      "cell_type": "markdown",
      "metadata": {
        "id": "q-tosE2G68xY"
      },
      "source": [
        "Linux é sistema operacional que possui uma grande importância em TI, estanod presente em diversos setores da área.\n",
        "Na área de dados, em destaque na engenharia de dados, linux é usado como ferramentas para montar, orquestrar fluxo de dados (pipeline de dados) entre outras funcionalidades.  \n",
        "\n",
        "É comum durante a rotina do Eng. Dados usar alguns comandos do linux. Quanto maior o conhecimento do profissional em linux, maior o poder de automação de tarefass ele terá ao seu dispor.\n",
        "\n",
        "Este documento possui alguns comandos básicos para usar o shell do linux.\n",
        "\n",
        "> Nota: Por ser um jupyter notebook, alguns comandos demonstrados pode mnão funcionar ou funcionar de modo inesperado. Recomenda-se a praticar em um shell ou terminal do linux."
      ]
    },
    {
      "cell_type": "markdown",
      "source": [
        "## Comandos"
      ],
      "metadata": {
        "id": "staIkDlqOxUj"
      }
    },
    {
      "cell_type": "markdown",
      "source": [
        "### Olá Mundo\n",
        "\n",
        "**echo**"
      ],
      "metadata": {
        "id": "zpK9Ovx6O28i"
      }
    },
    {
      "cell_type": "code",
      "source": [
        "! echo Ola Mundo"
      ],
      "metadata": {
        "colab": {
          "base_uri": "https://localhost:8080/"
        },
        "id": "miwyWzOzO0f6",
        "outputId": "28caf5f2-16a3-4c4a-c284-0648149973e8"
      },
      "execution_count": null,
      "outputs": [
        {
          "output_type": "stream",
          "name": "stdout",
          "text": [
            "Ola Mundo\n"
          ]
        }
      ]
    },
    {
      "cell_type": "code",
      "source": [
        "! echo \"Olá Mundo!\""
      ],
      "metadata": {
        "colab": {
          "base_uri": "https://localhost:8080/"
        },
        "id": "7AUmoX-FPGyN",
        "outputId": "fd56e521-06c5-4ebd-ff8e-b9ca6735c086"
      },
      "execution_count": null,
      "outputs": [
        {
          "output_type": "stream",
          "name": "stdout",
          "text": [
            "Olá Mundo!\n"
          ]
        }
      ]
    },
    {
      "cell_type": "markdown",
      "source": [
        "Imprimindo mais de uma linha"
      ],
      "metadata": {
        "id": "WpZkrC00PN3g"
      }
    },
    {
      "cell_type": "code",
      "source": [
        "! echo -e \"Hello World!\\nHow are you\""
      ],
      "metadata": {
        "colab": {
          "base_uri": "https://localhost:8080/"
        },
        "id": "7MbRN3pEPHUZ",
        "outputId": "2a34b192-6536-4a7f-b47e-ac4d33310539"
      },
      "execution_count": null,
      "outputs": [
        {
          "output_type": "stream",
          "name": "stdout",
          "text": [
            "Hello World!\n",
            "How are you\n"
          ]
        }
      ]
    },
    {
      "cell_type": "markdown",
      "source": [
        "Repare que foi necessário adicionar a opção \"-e\" após o comando para imprimir 2 linhas."
      ],
      "metadata": {
        "id": "tAhGWk3XPgNQ"
      }
    },
    {
      "cell_type": "code",
      "source": [
        "! echo \"Hello World!\\nHow are you\""
      ],
      "metadata": {
        "colab": {
          "base_uri": "https://localhost:8080/"
        },
        "id": "NPB3QWCWQKz4",
        "outputId": "778cd0fb-5ec4-4cf4-cd2e-a80f96d8d71c"
      },
      "execution_count": null,
      "outputs": [
        {
          "output_type": "stream",
          "name": "stdout",
          "text": [
            "Hello World!\\nHow are you\n"
          ]
        }
      ]
    },
    {
      "cell_type": "markdown",
      "source": [
        "Sem o \"-e\", o echo a marcação de nova linha `\\n`.  \n",
        "\n",
        "Logo o \"-e\" alterou o compoertamento padrão do comando echo.  \n",
        "\n",
        "No linux, os comandos de shell seguem, a seguinte estrutura\n",
        "\n",
        "```\n",
        "comando [opções] [argumentos]\n",
        "```\n",
        "\n",
        "Também pode-se interpretar assim:\n",
        "\n",
        "```\n",
        "comando [opções] [entrada(input)]\n",
        "```\n",
        "\n",
        "\n",
        "No comando \n",
        "\n",
        "```bash\n",
        "echo -e \"Hello World!\\nHow are you?\"\n",
        "```\n",
        "\n",
        "Onde:\n",
        "- Comando: echo\n",
        "- opção: -e\n",
        "- entrada: \"Hello World!\\nHow are you?\""
      ],
      "metadata": {
        "id": "Rsw3t-vqQTzJ"
      }
    },
    {
      "cell_type": "markdown",
      "source": [
        "Uma opção muito útil dos comandos linux é a opção \"-h\" ou \"--help\".  Essas opçãoes exibem uma descrição resumida do comando, opções disponíveis, ..."
      ],
      "metadata": {
        "id": "RpOFyf7GSFqf"
      }
    },
    {
      "cell_type": "markdown",
      "source": [
        "O comando help, man, info podem ajudar quando não existem essas opções."
      ],
      "metadata": {
        "id": "K5qos1sVS5dg"
      }
    },
    {
      "cell_type": "code",
      "source": [
        "! help echo"
      ],
      "metadata": {
        "colab": {
          "base_uri": "https://localhost:8080/"
        },
        "id": "QvpcnS09QO05",
        "outputId": "43db3ee8-242e-4f31-bf34-dc45b35b5fa7"
      },
      "execution_count": null,
      "outputs": [
        {
          "output_type": "stream",
          "name": "stdout",
          "text": [
            "echo: echo [-neE] [arg ...]\n",
            "    Write arguments to the standard output.\n",
            "    \n",
            "    Display the ARGs, separated by a single space character and followed by a\n",
            "    newline, on the standard output.\n",
            "    \n",
            "    Options:\n",
            "      -n\tdo not append a newline\n",
            "      -e\tenable interpretation of the following backslash escapes\n",
            "      -E\texplicitly suppress interpretation of backslash escapes\n",
            "    \n",
            "    `echo' interprets the following backslash-escaped characters:\n",
            "      \\a\talert (bell)\n",
            "      \\b\tbackspace\n",
            "      \\c\tsuppress further output\n",
            "      \\e\tescape character\n",
            "      \\E\tescape character\n",
            "      \\f\tform feed\n",
            "      \\n\tnew line\n",
            "      \\r\tcarriage return\n",
            "      \\t\thorizontal tab\n",
            "      \\v\tvertical tab\n",
            "      \\\\\tbackslash\n",
            "      \\0nnn\tthe character whose ASCII code is NNN (octal).  NNN can be\n",
            "    \t\t0 to 3 octal digits\n",
            "      \\xHH\tthe eight-bit character whose value is HH (hexadecimal).  HH\n",
            "    \t\tcan be one or two hex digits\n",
            "    \n",
            "    Exit Status:\n",
            "    Returns success unless a write error occurs.\n"
          ]
        }
      ]
    },
    {
      "cell_type": "markdown",
      "source": [
        "### Arquivos e pastas"
      ],
      "metadata": {
        "id": "e9xD6gVITmdT"
      }
    },
    {
      "cell_type": "markdown",
      "source": [
        "#### pwd (*print work directory*)\n",
        "\n",
        "Imprime na tela o diretório de trabalho onde o usuário está."
      ],
      "metadata": {
        "id": "Y8h6J4EjTvhp"
      }
    },
    {
      "cell_type": "code",
      "source": [
        "! pwd"
      ],
      "metadata": {
        "colab": {
          "base_uri": "https://localhost:8080/"
        },
        "id": "PMXoVOqiQPBR",
        "outputId": "cb58a995-ea2c-4ce1-a99a-91ccef6ec996"
      },
      "execution_count": null,
      "outputs": [
        {
          "output_type": "stream",
          "name": "stdout",
          "text": [
            "/content\n"
          ]
        }
      ]
    },
    {
      "cell_type": "markdown",
      "source": [
        "#### mkdir *(make directory)*\n",
        "\n",
        "Cria um diretório."
      ],
      "metadata": {
        "id": "tuf-tpoIUKo9"
      }
    },
    {
      "cell_type": "code",
      "source": [
        "! mkdir dir1"
      ],
      "metadata": {
        "id": "1QLyUvNxQPMQ"
      },
      "execution_count": null,
      "outputs": []
    },
    {
      "cell_type": "markdown",
      "source": [
        "#### ls *(list)*\n",
        "\n",
        "Lista arquivos e diretórios na pasta corrente."
      ],
      "metadata": {
        "id": "96L2jtDVUjLn"
      }
    },
    {
      "cell_type": "code",
      "source": [
        "! ls"
      ],
      "metadata": {
        "colab": {
          "base_uri": "https://localhost:8080/"
        },
        "id": "1QFAIIP7QPY5",
        "outputId": "ab3d5216-dfa4-46c9-f25f-bfc93d7c591e"
      },
      "execution_count": null,
      "outputs": [
        {
          "output_type": "stream",
          "name": "stdout",
          "text": [
            "dir1  sample_data\n"
          ]
        }
      ]
    },
    {
      "cell_type": "code",
      "source": [
        "! ls sample_data"
      ],
      "metadata": {
        "colab": {
          "base_uri": "https://localhost:8080/"
        },
        "id": "1s512CG3QPjA",
        "outputId": "1f359447-8109-4cb6-a269-119551348492"
      },
      "execution_count": null,
      "outputs": [
        {
          "output_type": "stream",
          "name": "stdout",
          "text": [
            "anscombe.json\t\t      mnist_test.csv\n",
            "california_housing_test.csv   mnist_train_small.csv\n",
            "california_housing_train.csv  README.md\n"
          ]
        }
      ]
    },
    {
      "cell_type": "markdown",
      "source": [
        "#### cd *(change directory)*\n",
        "\n",
        "Muda de diretório."
      ],
      "metadata": {
        "id": "d3Rf7xorVbO9"
      }
    },
    {
      "cell_type": "code",
      "source": [
        "! cd dir1/\n",
        "! pwd"
      ],
      "metadata": {
        "colab": {
          "base_uri": "https://localhost:8080/"
        },
        "id": "jgrlRMawVccZ",
        "outputId": "4ab6d0d7-e0a8-4dbf-d31c-4abd993b3792"
      },
      "execution_count": null,
      "outputs": [
        {
          "output_type": "stream",
          "name": "stdout",
          "text": [
            "/content\n"
          ]
        }
      ]
    },
    {
      "cell_type": "markdown",
      "source": [
        "> No notebook, o comportamento dos comanods de shell pode variar."
      ],
      "metadata": {
        "id": "AxcirZU9W5w7"
      }
    },
    {
      "cell_type": "markdown",
      "source": [
        "#### touch\n",
        "\n",
        "Cria um arquivo vazio ou alterar a data e hora de modificação de um arquivo já existente."
      ],
      "metadata": {
        "id": "kDzE69PoVHYo"
      }
    },
    {
      "cell_type": "code",
      "source": [
        "! touch arq1"
      ],
      "metadata": {
        "id": "boHM1-mkQPwi"
      },
      "execution_count": null,
      "outputs": []
    },
    {
      "cell_type": "code",
      "source": [
        "! ls"
      ],
      "metadata": {
        "colab": {
          "base_uri": "https://localhost:8080/"
        },
        "id": "l7-Acg6-QP_D",
        "outputId": "c59a3c19-4dff-46b9-d895-566d07bbc630"
      },
      "execution_count": null,
      "outputs": [
        {
          "output_type": "stream",
          "name": "stdout",
          "text": [
            "arq1  dir1  sample_data\n"
          ]
        }
      ]
    },
    {
      "cell_type": "code",
      "source": [
        "! rm anscombe.json"
      ],
      "metadata": {
        "id": "Gz7is-xTdWxF"
      },
      "execution_count": null,
      "outputs": []
    },
    {
      "cell_type": "markdown",
      "source": [
        "#### rmdir *(remove directory)*\n",
        "\n",
        "Remove um diretório vazio."
      ],
      "metadata": {
        "id": "eL0ccnLAXJXV"
      }
    },
    {
      "cell_type": "code",
      "source": [
        "! rmdir dir1\n",
        "! ls"
      ],
      "metadata": {
        "colab": {
          "base_uri": "https://localhost:8080/"
        },
        "id": "76QzuoTgXYAf",
        "outputId": "8c329aa1-465e-4a56-924d-e98725b6c2f5"
      },
      "execution_count": null,
      "outputs": [
        {
          "output_type": "stream",
          "name": "stdout",
          "text": [
            "arq1  sample_data\n"
          ]
        }
      ]
    },
    {
      "cell_type": "code",
      "source": [
        "! rmdir sample_data"
      ],
      "metadata": {
        "colab": {
          "base_uri": "https://localhost:8080/"
        },
        "id": "FdG6utH-XjGf",
        "outputId": "163bac35-c3e3-4fdf-c9db-c28d669bf19f"
      },
      "execution_count": null,
      "outputs": [
        {
          "output_type": "stream",
          "name": "stdout",
          "text": [
            "rmdir: failed to remove 'sample_data': Directory not empty\n"
          ]
        }
      ]
    },
    {
      "cell_type": "markdown",
      "source": [
        "#### rm *(remove)*\n",
        "\n",
        "Remove um arquivo."
      ],
      "metadata": {
        "id": "EoEGQZdHXoaI"
      }
    },
    {
      "cell_type": "code",
      "source": [
        "! rm arq1\n",
        "! ls"
      ],
      "metadata": {
        "colab": {
          "base_uri": "https://localhost:8080/"
        },
        "id": "XlJQJ1NKX-2G",
        "outputId": "a62dd12f-1142-4451-a240-fd2393084cdb"
      },
      "execution_count": null,
      "outputs": [
        {
          "output_type": "stream",
          "name": "stdout",
          "text": [
            "sample_data\n"
          ]
        }
      ]
    },
    {
      "cell_type": "markdown",
      "source": [
        "> Então para remover diretórios não vazio é necessário usar o `rm` para remover todos os arequivos e depois subir para um diretório acima e usar rmdir. Para facilitar, pode-se usar o rm com algumas opções.  \n",
        "\n",
        "> **???**\n",
        "\n",
        "> Uma pasta(diretório) pode ser considerada como um arquivo que contém os endereços em disco de outros arquivos."
      ],
      "metadata": {
        "id": "q2Gs6k0mYEt8"
      }
    },
    {
      "cell_type": "code",
      "source": [
        "! mkdir dir2\n",
        "! touch dir2/arq2\n",
        "! ls\n",
        "! echo listando conteudo de dir2\n",
        "! ls dir2"
      ],
      "metadata": {
        "colab": {
          "base_uri": "https://localhost:8080/"
        },
        "id": "Z2CgOV2AZnfg",
        "outputId": "f6140f2e-74f8-44e2-dd83-4b916140491a"
      },
      "execution_count": null,
      "outputs": [
        {
          "output_type": "stream",
          "name": "stdout",
          "text": [
            "dir2  sample_data\n",
            "listando conteudo de dir2\n",
            "arq2\n"
          ]
        }
      ]
    },
    {
      "cell_type": "code",
      "source": [
        "! rm -r dir2\n",
        "! ls"
      ],
      "metadata": {
        "colab": {
          "base_uri": "https://localhost:8080/"
        },
        "id": "SgzphWQ_Zx_X",
        "outputId": "424b9710-eab8-4abe-f531-3cb035354464"
      },
      "execution_count": null,
      "outputs": [
        {
          "output_type": "stream",
          "name": "stdout",
          "text": [
            "sample_data\n"
          ]
        }
      ]
    },
    {
      "cell_type": "markdown",
      "source": [
        "` rm -r`  *remova recursivamente*"
      ],
      "metadata": {
        "id": "RonOpuy2WHZK"
      }
    },
    {
      "cell_type": "markdown",
      "source": [
        "#### cp *(copy)*\n",
        "\n",
        "Copia arquivos e pastas"
      ],
      "metadata": {
        "id": "BCfe1-Yxc6-J"
      }
    },
    {
      "cell_type": "code",
      "source": [
        "! cp sample_data/anscombe.json anscombe.json\n",
        "! ls"
      ],
      "metadata": {
        "colab": {
          "base_uri": "https://localhost:8080/"
        },
        "id": "XFZABencdE8g",
        "outputId": "4dc4e92d-1bed-48f7-daa1-8328e86e7827"
      },
      "execution_count": null,
      "outputs": [
        {
          "output_type": "stream",
          "name": "stdout",
          "text": [
            "anscombe.json  dir2  sample_data\n"
          ]
        }
      ]
    },
    {
      "cell_type": "code",
      "source": [
        "! cp -r sample_data sample_data1\n",
        "! ls"
      ],
      "metadata": {
        "colab": {
          "base_uri": "https://localhost:8080/"
        },
        "id": "FsQHcIL9dcmx",
        "outputId": "0d8544f2-b4ca-4d5e-a31c-1e59098d429c"
      },
      "execution_count": null,
      "outputs": [
        {
          "output_type": "stream",
          "name": "stdout",
          "text": [
            "anscombe.json  dir2  sample_data  sample_data1\n"
          ]
        }
      ]
    },
    {
      "cell_type": "markdown",
      "source": [
        "#### mv *(move)*\n",
        "\n",
        "Move arquivos e pasta\n",
        "\n",
        "> Também pode ser usado para renomear arquivos e pastas."
      ],
      "metadata": {
        "id": "8yvHtrJpeRK4"
      }
    },
    {
      "cell_type": "code",
      "source": [
        "! echo \"listando conteúdo do diretório atual\"\n",
        "! ls\n",
        "! mv anscombe.json anscombe2.json\n",
        "! mv sample_data1 sample_data2\n",
        "! echo \"listando conteúdo do diretório atual\"\n",
        "! ls"
      ],
      "metadata": {
        "colab": {
          "base_uri": "https://localhost:8080/"
        },
        "id": "jWgNGE2fe0_p",
        "outputId": "a3c65381-11b4-4069-b0b0-8affceb40e87"
      },
      "execution_count": null,
      "outputs": [
        {
          "output_type": "stream",
          "name": "stdout",
          "text": [
            "listando conteúdo do diretório atual\n",
            "anscombe.json  dir2  sample_data  sample_data1\n",
            "listando conteúdo do diretório atual\n",
            "anscombe2.json\tdir2  sample_data  sample_data2\n"
          ]
        }
      ]
    },
    {
      "cell_type": "markdown",
      "source": [
        "Mover vários arquivos para um diretório específico"
      ],
      "metadata": {
        "id": "xUV3ORAhivGq"
      }
    },
    {
      "cell_type": "code",
      "source": [
        "! mkdir dir_teste\n",
        "! mv -t dir_teste sample_data2/*\n",
        "! ls dir_teste"
      ],
      "metadata": {
        "colab": {
          "base_uri": "https://localhost:8080/"
        },
        "id": "E-jAc2KEi7Vd",
        "outputId": "a5d66cd1-cf90-4261-c838-cb2102c39776"
      },
      "execution_count": null,
      "outputs": [
        {
          "output_type": "stream",
          "name": "stdout",
          "text": [
            "anscombe.json\t\t      mnist_test.csv\n",
            "california_housing_test.csv   mnist_train_small.csv\n",
            "california_housing_train.csv  README.md\n"
          ]
        }
      ]
    },
    {
      "cell_type": "markdown",
      "source": [
        "> Nota: \"*\" é um caracter coringa pode representa um ou mais caracteres."
      ],
      "metadata": {
        "id": "x_QkPtfdjM3g"
      }
    },
    {
      "cell_type": "markdown",
      "source": [
        "#### head\n",
        "\n",
        "Lê as primeiras 10 linhas de um arquivo por padrão"
      ],
      "metadata": {
        "id": "WYxDuza6ghx2"
      }
    },
    {
      "cell_type": "code",
      "source": [
        "! head anscombe2.json"
      ],
      "metadata": {
        "colab": {
          "base_uri": "https://localhost:8080/"
        },
        "id": "81q2CrJLgpgw",
        "outputId": "979f239a-1fbc-4e20-8901-88fae87177af"
      },
      "execution_count": null,
      "outputs": [
        {
          "output_type": "stream",
          "name": "stdout",
          "text": [
            "[\n",
            "  {\"Series\":\"I\", \"X\":10.0, \"Y\":8.04},\n",
            "  {\"Series\":\"I\", \"X\":8.0, \"Y\":6.95},\n",
            "  {\"Series\":\"I\", \"X\":13.0, \"Y\":7.58},\n",
            "  {\"Series\":\"I\", \"X\":9.0, \"Y\":8.81},\n",
            "  {\"Series\":\"I\", \"X\":11.0, \"Y\":8.33},\n",
            "  {\"Series\":\"I\", \"X\":14.0, \"Y\":9.96},\n",
            "  {\"Series\":\"I\", \"X\":6.0, \"Y\":7.24},\n",
            "  {\"Series\":\"I\", \"X\":4.0, \"Y\":4.26},\n",
            "  {\"Series\":\"I\", \"X\":12.0, \"Y\":10.84},\n"
          ]
        }
      ]
    },
    {
      "cell_type": "markdown",
      "source": [
        "Pode-se especificar o número de linhas"
      ],
      "metadata": {
        "id": "MSFCL1_Ig2pN"
      }
    },
    {
      "cell_type": "code",
      "source": [
        "! head -n 2 anscombe2.json"
      ],
      "metadata": {
        "colab": {
          "base_uri": "https://localhost:8080/"
        },
        "id": "1BmOapkngzK_",
        "outputId": "9d313d29-b959-4fab-de2a-a27d0d512709"
      },
      "execution_count": null,
      "outputs": [
        {
          "output_type": "stream",
          "name": "stdout",
          "text": [
            "[\n",
            "  {\"Series\":\"I\", \"X\":10.0, \"Y\":8.04},\n"
          ]
        }
      ]
    },
    {
      "cell_type": "markdown",
      "source": [
        "#### tail\n",
        "\n",
        "Lê as últimas 10 linhas de um arquivo por padrão"
      ],
      "metadata": {
        "id": "lCl4UPB-hQEc"
      }
    },
    {
      "cell_type": "code",
      "source": [
        "! tail anscombe2.json"
      ],
      "metadata": {
        "colab": {
          "base_uri": "https://localhost:8080/"
        },
        "outputId": "a1e165a9-6c39-4a49-c338-558ce0b8d73e",
        "id": "84G_zATkhQEe"
      },
      "execution_count": null,
      "outputs": [
        {
          "output_type": "stream",
          "name": "stdout",
          "text": [
            "  {\"Series\":\"IV\", \"X\":8.0, \"Y\":7.71},\n",
            "  {\"Series\":\"IV\", \"X\":8.0, \"Y\":8.84},\n",
            "  {\"Series\":\"IV\", \"X\":8.0, \"Y\":8.47},\n",
            "  {\"Series\":\"IV\", \"X\":8.0, \"Y\":7.04},\n",
            "  {\"Series\":\"IV\", \"X\":8.0, \"Y\":5.25},\n",
            "  {\"Series\":\"IV\", \"X\":19.0, \"Y\":12.50},\n",
            "  {\"Series\":\"IV\", \"X\":8.0, \"Y\":5.56},\n",
            "  {\"Series\":\"IV\", \"X\":8.0, \"Y\":7.91},\n",
            "  {\"Series\":\"IV\", \"X\":8.0, \"Y\":6.89}\n",
            "]\n"
          ]
        }
      ]
    },
    {
      "cell_type": "markdown",
      "source": [
        "Pode-se especificar o número de linhas"
      ],
      "metadata": {
        "id": "4HZ0jC7yhQEf"
      }
    },
    {
      "cell_type": "code",
      "source": [
        "! tail -n 2 anscombe2.json"
      ],
      "metadata": {
        "colab": {
          "base_uri": "https://localhost:8080/"
        },
        "outputId": "a47e36dc-b387-4695-fcf1-f13ef9f58ae7",
        "id": "dkEhaXTvhQEg"
      },
      "execution_count": null,
      "outputs": [
        {
          "output_type": "stream",
          "name": "stdout",
          "text": [
            "  {\"Series\":\"IV\", \"X\":8.0, \"Y\":6.89}\n",
            "]\n"
          ]
        }
      ]
    },
    {
      "cell_type": "markdown",
      "source": [
        "> Nota: O shell do linux oferece alguns editores de texto, como por exemplo:\n",
        "- vi ou vim;\n",
        "- nano."
      ],
      "metadata": {
        "id": "_VkXAxCJhcl2"
      }
    },
    {
      "cell_type": "markdown",
      "source": [
        "#### less\n",
        "\n",
        "Exibe o conteúdo de um arquivo de texto usando a setas do teclado para navegação.\n",
        "\n",
        "> Nota: Não funciona no notebook."
      ],
      "metadata": {
        "id": "ogrXxhgph73D"
      }
    },
    {
      "cell_type": "markdown",
      "source": [
        "### Salvando resultado de comandos\n",
        "\n",
        "No shell do linux, a entrada padrão é o teclado e saída padrão é a tela. O shell dispõe de alguns recursos para redirecionar a saída para um arquivo."
      ],
      "metadata": {
        "id": "8f5dbElkkAur"
      }
    },
    {
      "cell_type": "code",
      "source": [
        "! echo \"Linha 1\" >  arq1\n",
        "! echo \"Mostrando conteúdo de arq1\"\n",
        "! head arq1"
      ],
      "metadata": {
        "colab": {
          "base_uri": "https://localhost:8080/"
        },
        "id": "4S-XJCY3lPm2",
        "outputId": "68894266-1ec2-4a87-f2dc-32819bca0f40"
      },
      "execution_count": null,
      "outputs": [
        {
          "output_type": "stream",
          "name": "stdout",
          "text": [
            "Mostrando conteúdo de arq1\n",
            "Linha 1\n"
          ]
        }
      ]
    },
    {
      "cell_type": "code",
      "source": [
        "! echo \"Linha 2\" >  arq1\n",
        "! echo \"Mostrando conteúdo de arq1\"\n",
        "! head arq1"
      ],
      "metadata": {
        "colab": {
          "base_uri": "https://localhost:8080/"
        },
        "id": "ErX5y2RXlnSx",
        "outputId": "1ae5f379-827c-494a-84e3-75eae9c4e2d3"
      },
      "execution_count": null,
      "outputs": [
        {
          "output_type": "stream",
          "name": "stdout",
          "text": [
            "Mostrando conteúdo de arq1\n",
            "Linha 2\n"
          ]
        }
      ]
    },
    {
      "cell_type": "markdown",
      "source": [
        "O \">\" Direciona a saída do comando para um arquivo sempre sobrecrevendo o arquivo"
      ],
      "metadata": {
        "id": "ee7oNs7Klr1D"
      }
    },
    {
      "cell_type": "code",
      "source": [
        "! echo \"Linha 1\" >  arq1\n",
        "! echo \"Mostrando conteúdo de arq1\"\n",
        "! head arq1\n",
        "! echo \"Linha 2\" >>  arq1\n",
        "! echo \"Mostrando conteúdo de arq1\"\n",
        "! head arq1"
      ],
      "metadata": {
        "colab": {
          "base_uri": "https://localhost:8080/"
        },
        "id": "D2T80WpWl0s4",
        "outputId": "f0e29428-7233-4b56-eb49-05791e4d1065"
      },
      "execution_count": null,
      "outputs": [
        {
          "output_type": "stream",
          "name": "stdout",
          "text": [
            "Mostrando conteúdo de arq1\n",
            "Linha 1\n",
            "Mostrando conteúdo de arq1\n",
            "Linha 1\n",
            "Linha 2\n"
          ]
        }
      ]
    },
    {
      "cell_type": "markdown",
      "source": [
        "O \">>\" Adiciona a saída para uma nova linha."
      ],
      "metadata": {
        "id": "oj1KHn5xmzlP"
      }
    },
    {
      "cell_type": "markdown",
      "source": [
        "#### cat \n",
        "\n",
        "Lê todo o conteúdo do arquivo"
      ],
      "metadata": {
        "id": "jxd4GfdwjqPx"
      }
    },
    {
      "cell_type": "code",
      "source": [
        "! cat arq1"
      ],
      "metadata": {
        "colab": {
          "base_uri": "https://localhost:8080/"
        },
        "id": "w-PyAlB0ml9g",
        "outputId": "62949183-166a-4329-b912-dce0338ac735"
      },
      "execution_count": null,
      "outputs": [
        {
          "output_type": "stream",
          "name": "stdout",
          "text": [
            "Linha 1\n",
            "Linha 2\n"
          ]
        }
      ]
    },
    {
      "cell_type": "markdown",
      "source": [
        "Também é possível redireionar a saída de um comando para uma variável.\n",
        "\n",
        "```bash\n",
        "EXEMPLO=$(pwd)\n",
        "echo $EXEMPLO\n",
        "```\n",
        "\n",
        "Na linha 1 é criada a  variável EXEMPLO\n",
        "Na linha o conteúdo de `EXEMPLO` é acessado e enviado como uma entrada para o comando `echo`."
      ],
      "metadata": {
        "id": "2_90vCkYm-9i"
      }
    },
    {
      "cell_type": "code",
      "source": [],
      "metadata": {
        "id": "s32Ej2JDn3sL"
      },
      "execution_count": null,
      "outputs": []
    }
  ]
}